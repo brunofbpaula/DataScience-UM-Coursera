{
  "nbformat": 4,
  "nbformat_minor": 0,
  "metadata": {
    "colab": {
      "provenance": [],
      "authorship_tag": "ABX9TyOgoJdRiOXbbq50oK+LCE0m",
      "include_colab_link": true
    },
    "kernelspec": {
      "name": "python3",
      "display_name": "Python 3"
    },
    "language_info": {
      "name": "python"
    }
  },
  "cells": [
    {
      "cell_type": "markdown",
      "metadata": {
        "id": "view-in-github",
        "colab_type": "text"
      },
      "source": [
        "<a href=\"https://colab.research.google.com/github/brunofbpaula/DataScience-UM-Coursera/blob/main/Lambda-and-List-Comprehension.ipynb\" target=\"_parent\"><img src=\"https://colab.research.google.com/assets/colab-badge.svg\" alt=\"Open In Colab\"/></a>"
      ]
    },
    {
      "cell_type": "markdown",
      "source": [
        "Getting used to Python (yeah, again)"
      ],
      "metadata": {
        "id": "6mlfK3jI2tPA"
      }
    },
    {
      "cell_type": "code",
      "execution_count": 9,
      "metadata": {
        "colab": {
          "base_uri": "https://localhost:8080/"
        },
        "id": "ifNeLfBH2RlG",
        "outputId": "88103440-ab8b-482c-976e-1c1c5a94c9b7"
      },
      "outputs": [
        {
          "output_type": "execute_result",
          "data": {
            "text/plain": [
              "[5, 10, 15, 20, 25, 30, 35, 40, 45, 50]"
            ]
          },
          "metadata": {},
          "execution_count": 9
        }
      ],
      "source": [
        "mylist = [x for x in range(1, 50+1) if x % 5 == 0]\n",
        "mylist"
      ]
    },
    {
      "cell_type": "code",
      "source": [
        "newfunction = lambda y: int(y / 5)\n",
        "newlist = list(map(newfunction, mylist))\n",
        "newlist"
      ],
      "metadata": {
        "colab": {
          "base_uri": "https://localhost:8080/"
        },
        "id": "GTaC5HpN2zTC",
        "outputId": "ca240209-03bf-46dd-83e9-3b273ba3fcec"
      },
      "execution_count": 10,
      "outputs": [
        {
          "output_type": "execute_result",
          "data": {
            "text/plain": [
              "[1, 2, 3, 4, 5, 6, 7, 8, 9, 10]"
            ]
          },
          "metadata": {},
          "execution_count": 10
        }
      ]
    },
    {
      "cell_type": "code",
      "source": [
        "numlist = [1, 5, 7, 5, 5, 9, 6, 87, 4, 5]\n",
        "while 5 in numlist:\n",
        "  numlist.remove(5)\n",
        "numlist"
      ],
      "metadata": {
        "colab": {
          "base_uri": "https://localhost:8080/"
        },
        "id": "wIatgmIx5kU0",
        "outputId": "f5425a84-0c04-4377-f581-6988439da909"
      },
      "execution_count": 2,
      "outputs": [
        {
          "output_type": "execute_result",
          "data": {
            "text/plain": [
              "[1, 7, 9, 6, 87, 4]"
            ]
          },
          "metadata": {},
          "execution_count": 2
        }
      ]
    },
    {
      "cell_type": "code",
      "source": [
        "numlist = [1, 5, 7, 5, 5, 9, 6, 87, 4, 5]\n",
        "fives = []\n",
        "while 5 in numlist:\n",
        "  popped = numlist.pop(numlist.index(5))\n",
        "  fives.append(popped)\n",
        "print(numlist)\n",
        "fives"
      ],
      "metadata": {
        "colab": {
          "base_uri": "https://localhost:8080/"
        },
        "id": "e3kc8hhvya2H",
        "outputId": "4bb84e91-3ffd-4cb2-808b-59f3d4f8aa9f"
      },
      "execution_count": 6,
      "outputs": [
        {
          "output_type": "stream",
          "name": "stdout",
          "text": [
            "[1, 7, 9, 6, 87, 4]\n"
          ]
        },
        {
          "output_type": "execute_result",
          "data": {
            "text/plain": [
              "[5, 5, 5, 5]"
            ]
          },
          "metadata": {},
          "execution_count": 6
        }
      ]
    },
    {
      "cell_type": "code",
      "source": [
        "numlist = [5, 1, 5, 7, 5, 5, 5, 5, 5, 9, 6, 87, 4, 5]\n",
        "for i in numlist[0:]:\n",
        "  if i == 5:\n",
        "    numlist.remove(5)\n",
        "numlist"
      ],
      "metadata": {
        "colab": {
          "base_uri": "https://localhost:8080/"
        },
        "id": "w1vYIkC_1diR",
        "outputId": "013676a0-a811-4cde-d2de-a800e889b1c3"
      },
      "execution_count": 11,
      "outputs": [
        {
          "output_type": "execute_result",
          "data": {
            "text/plain": [
              "[1, 7, 9, 6, 87, 4]"
            ]
          },
          "metadata": {},
          "execution_count": 11
        }
      ]
    },
    {
      "cell_type": "code",
      "source": [
        "numlist == numlist[0:]"
      ],
      "metadata": {
        "colab": {
          "base_uri": "https://localhost:8080/"
        },
        "id": "o_DBoJVI6eUj",
        "outputId": "edaea6a4-7e15-4489-c417-7f48ee141d19"
      },
      "execution_count": 12,
      "outputs": [
        {
          "output_type": "execute_result",
          "data": {
            "text/plain": [
              "True"
            ]
          },
          "metadata": {},
          "execution_count": 12
        }
      ]
    },
    {
      "cell_type": "code",
      "source": [
        "lowercase = 'abcdefghijklmnopqrstuvwxyz'\n",
        "digits = '0123456789'\n",
        "\n",
        "answer = [w + x + y + z for w in lowercase for x in lowercase for y in digits for z in digits]\n",
        "answer[:10]  # ten first possibilities"
      ],
      "metadata": {
        "colab": {
          "base_uri": "https://localhost:8080/"
        },
        "id": "3VAxLFXP7o9h",
        "outputId": "594d0f32-99aa-4052-f0f4-bdedddeb0fea"
      },
      "execution_count": 13,
      "outputs": [
        {
          "output_type": "execute_result",
          "data": {
            "text/plain": [
              "['aa00',\n",
              " 'aa01',\n",
              " 'aa02',\n",
              " 'aa03',\n",
              " 'aa04',\n",
              " 'aa05',\n",
              " 'aa06',\n",
              " 'aa07',\n",
              " 'aa08',\n",
              " 'aa09']"
            ]
          },
          "metadata": {},
          "execution_count": 13
        }
      ]
    }
  ]
}