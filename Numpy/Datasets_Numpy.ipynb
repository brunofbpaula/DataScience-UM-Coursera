{
  "nbformat": 4,
  "nbformat_minor": 0,
  "metadata": {
    "colab": {
      "provenance": [],
      "authorship_tag": "ABX9TyN1Mig+X3BTWs9VvogHcjkx",
      "include_colab_link": true
    },
    "kernelspec": {
      "name": "python3",
      "display_name": "Python 3"
    },
    "language_info": {
      "name": "python"
    }
  },
  "cells": [
    {
      "cell_type": "markdown",
      "metadata": {
        "id": "view-in-github",
        "colab_type": "text"
      },
      "source": [
        "<a href=\"https://colab.research.google.com/github/brunofbpaula/DataScience-UM-Coursera/blob/main/Numpy/Datasets_Numpy.ipynb\" target=\"_parent\"><img src=\"https://colab.research.google.com/assets/colab-badge.svg\" alt=\"Open In Colab\"/></a>"
      ]
    },
    {
      "cell_type": "markdown",
      "source": [
        "# Datasets in Numpy\n",
        "To load a dataset in Numpy, we can use the genfromtext() function. We can specify data file name, delimiter (which is optional but often used), and number of rows to skip if we have a header row, hence it is one here.\n",
        "\n",
        "The genfromtext() function has a parameter called dtype for specifying data types of each column, and this parameter is optional. Without specifying the types, all types will be casted as the same to the more general/precise type."
      ],
      "metadata": {
        "id": "M3ySfpBNvHpE"
      }
    },
    {
      "cell_type": "code",
      "execution_count": 1,
      "metadata": {
        "id": "SrZsocuousRy"
      },
      "outputs": [],
      "source": [
        "import numpy as np\n",
        "import math"
      ]
    },
    {
      "cell_type": "markdown",
      "source": [
        "## Wine Quality\n",
        "Here we have a very popular dataset on wine quality, and we are going to look at red wines. The data fields include: fixed acidity, volatile aciditycitric acid, residual sugar, chlorides, free sulfur dioxide, total dioxide density, pH, sulphates, alcohol, quality and so on."
      ],
      "metadata": {
        "id": "auh4dHZonN2G"
      }
    },
    {
      "cell_type": "code",
      "source": [
        "wines = np.genfromtxt(\"dataset/winequality-red.csv\", delimiter=\";\", skip_header=1)\n",
        "wines"
      ],
      "metadata": {
        "colab": {
          "base_uri": "https://localhost:8080/"
        },
        "id": "dPg7p4HRwYEo",
        "outputId": "45fe30b9-0662-448c-d12e-3ef49741efa5"
      },
      "execution_count": 2,
      "outputs": [
        {
          "output_type": "execute_result",
          "data": {
            "text/plain": [
              "array([[ 7.4  ,  0.7  ,  0.   , ...,  0.56 ,  9.4  ,  5.   ],\n",
              "       [ 7.8  ,  0.88 ,  0.   , ...,  0.68 ,  9.8  ,  5.   ],\n",
              "       [ 7.8  ,  0.76 ,  0.04 , ...,  0.65 ,  9.8  ,  5.   ],\n",
              "       ...,\n",
              "       [ 6.3  ,  0.51 ,  0.13 , ...,  0.75 , 11.   ,  6.   ],\n",
              "       [ 5.9  ,  0.645,  0.12 , ...,  0.71 , 10.2  ,  5.   ],\n",
              "       [ 6.   ,  0.31 ,  0.47 , ...,  0.66 , 11.   ,  6.   ]])"
            ]
          },
          "metadata": {},
          "execution_count": 2
        }
      ]
    },
    {
      "cell_type": "code",
      "source": [
        "# Getting the acidity column (first column)\n",
        "# Remembering that for multidimensional arrays, the first argument refers to the row, and the second one to the column\n",
        "# and if we just give one argument then we'll get a single dimensional list back.\n",
        "\n",
        "print(f'One integer \\'0\\' for slicing: ', wines[:, 0])  # All rows combined horizontally\n",
        "print(f'0 to 1 for slicing: \\n', wines[:, 0:1])  # Same values but each one in their own rows vertically\n"
      ],
      "metadata": {
        "colab": {
          "base_uri": "https://localhost:8080/"
        },
        "id": "HPhLSDn5zKdP",
        "outputId": "09fc6da6-71f7-402e-f778-831e6350ec99"
      },
      "execution_count": 3,
      "outputs": [
        {
          "output_type": "stream",
          "name": "stdout",
          "text": [
            "One integer '0' for slicing:  [7.4 7.8 7.8 ... 6.3 5.9 6. ]\n",
            "0 to 1 for slicing: \n",
            " [[7.4]\n",
            " [7.8]\n",
            " [7.8]\n",
            " ...\n",
            " [6.3]\n",
            " [5.9]\n",
            " [6. ]]\n"
          ]
        }
      ]
    },
    {
      "cell_type": "code",
      "source": [
        "# Non-consecutive columns\n",
        "# We simply need to pass the indices of the columns into an array and then the array as the second argument\n",
        "wines[:, [0,2,4]]"
      ],
      "metadata": {
        "id": "Y31EeJbVvRMM",
        "colab": {
          "base_uri": "https://localhost:8080/"
        },
        "outputId": "d3d3d2c8-32ed-41c8-e5c6-974e60f54235"
      },
      "execution_count": 4,
      "outputs": [
        {
          "output_type": "execute_result",
          "data": {
            "text/plain": [
              "array([[7.4  , 0.   , 0.076],\n",
              "       [7.8  , 0.   , 0.098],\n",
              "       [7.8  , 0.04 , 0.092],\n",
              "       ...,\n",
              "       [6.3  , 0.13 , 0.076],\n",
              "       [5.9  , 0.12 , 0.075],\n",
              "       [6.   , 0.47 , 0.067]])"
            ]
          },
          "metadata": {},
          "execution_count": 4
        }
      ]
    },
    {
      "cell_type": "code",
      "source": [
        "# Finding the average quality of red wine\n",
        "# The last column\n",
        "\n",
        "print(f\"The average quality of red wine is {wines[:, -1].mean():.2f}.\")"
      ],
      "metadata": {
        "colab": {
          "base_uri": "https://localhost:8080/"
        },
        "id": "WnbuhJYC1RzC",
        "outputId": "11a9b4ba-ae7c-465c-cf7d-96d34e576545"
      },
      "execution_count": 5,
      "outputs": [
        {
          "output_type": "stream",
          "name": "stdout",
          "text": [
            "The average quality of red wine is 5.64.\n"
          ]
        }
      ]
    },
    {
      "cell_type": "code",
      "source": [
        "# Getting the rows where the alcohol percentage is higher than thirteen\n",
        "high_alcohol = wines[wines[:,-2] > 13]\n",
        "\n",
        "# Now getting the average quality of red wine with high alcohol content\n",
        "print(f\"The average quality of high-alcohol-content red wine is {high_alcohol[:, -1].mean():.2f}.\")"
      ],
      "metadata": {
        "colab": {
          "base_uri": "https://localhost:8080/"
        },
        "id": "WCOuIT2z2hes",
        "outputId": "884f742c-9105-4bb0-eba5-1bfabcf250fe"
      },
      "execution_count": 6,
      "outputs": [
        {
          "output_type": "stream",
          "name": "stdout",
          "text": [
            "The average quality of high-alcohol-content red wine is 6.52.\n"
          ]
        }
      ]
    },
    {
      "cell_type": "markdown",
      "source": [
        "## Admission Predict\n",
        "\n",
        "This dataset contains fields such as GRE score, TOEFL score, university rating, GPA, having research or not, and a chance of admission."
      ],
      "metadata": {
        "id": "X8pJ_s-C5bUa"
      }
    },
    {
      "cell_type": "code",
      "source": [
        "# It's possible to specify the data field names when using genfromtext() to loads CSV data.\n",
        "# We can also have numpy try and infer the type of a column by setting the dtype parameter to None.\n",
        "\n",
        "graduate_admission = np.genfromtxt('dataset/Admission_Predict.csv', dtype=None, delimiter=\",\", skip_header=1,\n",
        "                                   names=('Serial No', 'GRE Score', 'TOEFL Score', 'University Rating', 'SOP', 'LOR',\n",
        "                                          'CGPA', 'Research', 'Chance of Admit'))\n",
        "\n",
        "# The result is an one-dimensional array with 400 tuples\n",
        "graduate_admission.shape"
      ],
      "metadata": {
        "colab": {
          "base_uri": "https://localhost:8080/"
        },
        "id": "NZJVOzfe3Sew",
        "outputId": "421cca48-9b24-4348-d077-d41f5edee34b"
      },
      "execution_count": 7,
      "outputs": [
        {
          "output_type": "execute_result",
          "data": {
            "text/plain": [
              "(400,)"
            ]
          },
          "metadata": {},
          "execution_count": 7
        }
      ]
    },
    {
      "cell_type": "code",
      "source": [
        "# Now that we've given all columns a name, it's easier to retrieve a column.\n",
        "# We just need to use the column's name\n",
        "# Remembering that spaces are replaced with underscores\n",
        "graduate_admission['TOEFL_Score'][0:10]"
      ],
      "metadata": {
        "colab": {
          "base_uri": "https://localhost:8080/"
        },
        "id": "MnQdFbyU8i4V",
        "outputId": "4b30a87e-ff55-49f8-cb6e-728c8f3775cb"
      },
      "execution_count": 8,
      "outputs": [
        {
          "output_type": "execute_result",
          "data": {
            "text/plain": [
              "array([118, 107, 104, 110, 103, 115, 109, 101, 102, 108])"
            ]
          },
          "metadata": {},
          "execution_count": 8
        }
      ]
    },
    {
      "cell_type": "code",
      "source": [
        "# Let's find out how many students have done a research\n",
        "print(\"The amount of students that have done research is {}.\".format(len(graduate_admission[graduate_admission['Research']==1])))"
      ],
      "metadata": {
        "colab": {
          "base_uri": "https://localhost:8080/"
        },
        "id": "MWMl4wqP-zlq",
        "outputId": "14260e8d-cce2-48f4-96ff-2a2169804bb0"
      },
      "execution_count": 9,
      "outputs": [
        {
          "output_type": "stream",
          "name": "stdout",
          "text": [
            "The amount of students that have done research is 219.\n"
          ]
        }
      ]
    },
    {
      "cell_type": "code",
      "source": [
        "# Do students with high chances of admission (>0.8) on average have higher GRE Score than those with\n",
        "# lower chances of admission? Let's see.\n",
        "\n",
        "print(graduate_admission[graduate_admission['Chance_of_Admit'] > 0.8]['GRE_Score'].mean())  # Students with high chance of admission\n",
        "graduate_admission[graduate_admission['Chance_of_Admit'] < 0.4]['GRE_Score'].mean()  # Students with low chance of admission"
      ],
      "metadata": {
        "colab": {
          "base_uri": "https://localhost:8080/"
        },
        "id": "K5I6OvBZ_rur",
        "outputId": "6effa7bd-445a-438d-c757-edb9278021a2"
      },
      "execution_count": 10,
      "outputs": [
        {
          "output_type": "stream",
          "name": "stdout",
          "text": [
            "328.7350427350427\n"
          ]
        },
        {
          "output_type": "execute_result",
          "data": {
            "text/plain": [
              "302.2857142857143"
            ]
          },
          "metadata": {},
          "execution_count": 10
        }
      ]
    }
  ]
}