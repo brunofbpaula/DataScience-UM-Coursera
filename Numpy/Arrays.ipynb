{
  "nbformat": 4,
  "nbformat_minor": 0,
  "metadata": {
    "colab": {
      "provenance": [],
      "authorship_tag": "ABX9TyPMSXgxwGaB6MzUKadvPS8H",
      "include_colab_link": true
    },
    "kernelspec": {
      "name": "python3",
      "display_name": "Python 3"
    },
    "language_info": {
      "name": "python"
    }
  },
  "cells": [
    {
      "cell_type": "markdown",
      "metadata": {
        "id": "view-in-github",
        "colab_type": "text"
      },
      "source": [
        "<a href=\"https://colab.research.google.com/github/brunofbpaula/DataScience-UM-Coursera/blob/main/Numpy/Arrays.ipynb\" target=\"_parent\"><img src=\"https://colab.research.google.com/assets/colab-badge.svg\" alt=\"Open In Colab\"/></a>"
      ]
    },
    {
      "cell_type": "markdown",
      "source": [
        "# Numpy\n",
        "It's the fundamental package for numeric computing with Python. It provides powerful ways to create, store, and/or manipulate data, which makes it able to seamlessly and speedily integrate with a wide variaty of databases. This also the foundation that Pandas is built on, a high-performance data-centric package."
      ],
      "metadata": {
        "id": "Fn0TJSbUHtzB"
      }
    },
    {
      "cell_type": "code",
      "execution_count": 2,
      "metadata": {
        "id": "x9mChkVRHsRk"
      },
      "outputs": [],
      "source": [
        "import numpy as np\n",
        "import math"
      ]
    },
    {
      "cell_type": "markdown",
      "source": [
        "#Array Creation\n",
        "They are displayed as a list or list of lists and can be created through list as well. When creating an arrray, we pass in a list as an argument in numpy array."
      ],
      "metadata": {
        "id": "4kmmusYUJcmI"
      }
    },
    {
      "cell_type": "code",
      "source": [
        "a = np.array([1,2,3])\n",
        "print(f'One-dimension A-array: {a}')\n",
        "print(f'Dimensions of A-array: {a.ndim}')  # this attribute returns the number of dimensions of a list\n",
        "print(f'Type of items in A-array: {a.dtype}') # it returns the datatype of the items in the array"
      ],
      "metadata": {
        "colab": {
          "base_uri": "https://localhost:8080/"
        },
        "id": "h8p6H-o6JuWH",
        "outputId": "cf166f52-64c3-46bd-8b60-8a277f3632fe"
      },
      "execution_count": 19,
      "outputs": [
        {
          "output_type": "stream",
          "name": "stdout",
          "text": [
            "One-dimension A-array: [1 2 3]\n",
            "Dimensions of A-array: 1\n",
            "Type of items in A-array: int64\n"
          ]
        }
      ]
    },
    {
      "cell_type": "code",
      "source": [
        "b = np.array([[4,5,6], [7,8,9]])\n",
        "print(f'Two-dimension B-array: \\n{b}')\n",
        "print(f'Length of each dimension of B-array: {b.shape}') # it shows the length of each dimension in a array"
      ],
      "metadata": {
        "colab": {
          "base_uri": "https://localhost:8080/"
        },
        "id": "kl_HtoHKJ28o",
        "outputId": "f5bdb655-edb7-4024-a0b4-46726aa1b41e"
      },
      "execution_count": 14,
      "outputs": [
        {
          "output_type": "stream",
          "name": "stdout",
          "text": [
            "Two-dimension B-array: \n",
            "[[4 5 6]\n",
            " [7 8 9]]\n",
            "Length of each dimension of B-array: (2, 3)\n"
          ]
        }
      ]
    },
    {
      "cell_type": "code",
      "source": [
        "c = np.array([1,2.3,3.4]) # an array can be made up of more than integers.\n",
        "print(c)\n",
        "print(c.dtype.name)"
      ],
      "metadata": {
        "colab": {
          "base_uri": "https://localhost:8080/"
        },
        "id": "1FUB4kuFKEnZ",
        "outputId": "3841961a-d331-4e47-d009-f656f0215354"
      },
      "execution_count": 22,
      "outputs": [
        {
          "output_type": "stream",
          "name": "stdout",
          "text": [
            "[1.  2.3 3.4]\n",
            "float64\n"
          ]
        }
      ]
    },
    {
      "cell_type": "markdown",
      "source": [
        "We can note that numpy will automatically convert intengers up to floats, since there is no loss of precision. Numpy will try and give the best data type format possible to keep your data type homogeneous, which means all the same, in the array."
      ],
      "metadata": {
        "id": "m3TB2GAxPAXx"
      }
    },
    {
      "cell_type": "markdown",
      "source": [
        "# Zeros, Ones and Random\n",
        "Sometimes we know the shape of the array we want to create but not what we want to be in it. Numpy offers several functions to create arrays with initial placeholders, such as zeros or ones."
      ],
      "metadata": {
        "id": "S78hw7qoPuOL"
      }
    },
    {
      "cell_type": "code",
      "source": [
        "d = np.zeros((2,3)) # It takes a tuple with the dimensions of the array as argument\n",
        "print(f'Array of zeros:\\n{d}')\n",
        "e = np.ones((2,3))\n",
        "print(f'Array of ones:\\n{e}')\n",
        "f = np.random.rand(2,3) # It creates a array with placeholders between 0 and 1 in the given shape\n",
        "print(f'Array of random numbers:\\n{f}')"
      ],
      "metadata": {
        "colab": {
          "base_uri": "https://localhost:8080/"
        },
        "id": "HeEFYXmyNez6",
        "outputId": "ecc1fa05-a000-4b41-c43e-4b6197181346"
      },
      "execution_count": 27,
      "outputs": [
        {
          "output_type": "stream",
          "name": "stdout",
          "text": [
            "Array of zeros:\n",
            "[[0. 0. 0.]\n",
            " [0. 0. 0.]]\n",
            "Array of ones:\n",
            "[[1. 1. 1.]\n",
            " [1. 1. 1.]]\n",
            "Array of random numbers:\n",
            "[[0.12422123 0.27564353 0.11886362]\n",
            " [0.14927248 0.5423702  0.85776381]]\n"
          ]
        }
      ]
    },
    {
      "cell_type": "markdown",
      "source": [
        "# Sequences\n",
        "It's also possible to create a sequence of numbers within a range, with the arange() function. The first argument is the starting bound and the second argument is the ending bound, and the third argument is the difference between each consecutive number, just like the range() function."
      ],
      "metadata": {
        "id": "yJLFthqARXYf"
      }
    },
    {
      "cell_type": "code",
      "source": [
        "f = np.arange(2,10+1,2)\n",
        "print(f)"
      ],
      "metadata": {
        "colab": {
          "base_uri": "https://localhost:8080/"
        },
        "id": "iClSVSf7QOl1",
        "outputId": "98735f08-06f3-4c3a-94a7-0775711fd9c8"
      },
      "execution_count": 29,
      "outputs": [
        {
          "output_type": "execute_result",
          "data": {
            "text/plain": [
              "array([ 2,  4,  6,  8, 10])"
            ]
          },
          "metadata": {},
          "execution_count": 29
        }
      ]
    },
    {
      "cell_type": "markdown",
      "source": [
        "Now, to create a sequence of floats, we use the linspace() function. In this function, the third argument isn't the difference between two numbers, but the total numbers of itens you want to generate. The first and second arguments are inclusive."
      ],
      "metadata": {
        "id": "yZTHpOSJZf3N"
      }
    },
    {
      "cell_type": "code",
      "source": [
        "g = np.linspace(1,2,5)\n",
        "print(g)"
      ],
      "metadata": {
        "colab": {
          "base_uri": "https://localhost:8080/"
        },
        "id": "8kovxhKaVwEq",
        "outputId": "2abce26c-1adf-4598-ad06-0247e9c2ee78"
      },
      "execution_count": 30,
      "outputs": [
        {
          "output_type": "stream",
          "name": "stdout",
          "text": [
            "[1.   1.25 1.5  1.75 2.  ]\n"
          ]
        }
      ]
    },
    {
      "cell_type": "markdown",
      "source": [
        "#Array Manipulation\n",
        "We can do many things on arrays, such as mathematical manipulation (addition, subtraction, square, exponents) as well as boolean arrays, which are binary values. We can alsodo matrix manipulation such as product, transpose, inverse and so forth."
      ],
      "metadata": {
        "id": "0N7okMp8aEam"
      }
    },
    {
      "cell_type": "code",
      "source": [],
      "metadata": {
        "id": "RsHQeWo5Z-Fb"
      },
      "execution_count": null,
      "outputs": []
    }
  ]
}