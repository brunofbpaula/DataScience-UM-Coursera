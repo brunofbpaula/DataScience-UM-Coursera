{
  "cells": [
    {
      "cell_type": "markdown",
      "id": "872932f8-df2c-4a5a-870d-268b224606ca",
      "metadata": {
        "tags": [],
        "id": "872932f8-df2c-4a5a-870d-268b224606ca"
      },
      "source": [
        "# Datetime"
      ]
    },
    {
      "cell_type": "raw",
      "id": "550fa6fd-3b0f-4c26-8642-446384fad432",
      "metadata": {
        "id": "550fa6fd-3b0f-4c26-8642-446384fad432"
      },
      "source": [
        "Date and time objects may be categorized as “aware” or “naive” depending on whether or not they include timezone information.\n",
        "\n",
        "An 'aware' object represents a specific moment in time that is not open to interpretation.\n",
        "\n",
        "A 'naive' object does not contain enough information to unambigously locate itself relative to other date/time objects. They don't represent, effectively, UTC, local time or time in some other timezone, so it's up to the program what it really means.\n",
        "\n",
        "Objects of the date type are always naive. An object of type time or datetime may be aware or naive.\n",
        "\n",
        "That been said, let's dive into the library. More on https://docs.python.org/3/library/datetime.html."
      ]
    },
    {
      "cell_type": "code",
      "execution_count": 1,
      "id": "5f3fceaa-80fd-498e-aeee-d4a86b1f2f35",
      "metadata": {
        "id": "5f3fceaa-80fd-498e-aeee-d4a86b1f2f35"
      },
      "outputs": [],
      "source": [
        "import datetime as dt\n",
        "import time as tm"
      ]
    },
    {
      "cell_type": "code",
      "execution_count": 2,
      "id": "0db6b8c4-d8ea-43e9-a60d-7fa78496d575",
      "metadata": {
        "colab": {
          "base_uri": "https://localhost:8080/"
        },
        "id": "0db6b8c4-d8ea-43e9-a60d-7fa78496d575",
        "outputId": "03a5a47c-0230-436c-9d40-dc6c952e0fc3"
      },
      "outputs": [
        {
          "output_type": "execute_result",
          "data": {
            "text/plain": [
              "datetime.datetime(2023, 8, 1, 21, 59, 42, 30970)"
            ]
          },
          "metadata": {},
          "execution_count": 2
        }
      ],
      "source": [
        "dtnow = dt.datetime.fromtimestamp(tm.time(), tz=None) # year, month, day, hour, minute, second, miliseconds in UTC time\n",
        "dtnow"
      ]
    },
    {
      "cell_type": "code",
      "execution_count": 3,
      "id": "2869fa1d-a996-4499-b833-974be8636f13",
      "metadata": {
        "colab": {
          "base_uri": "https://localhost:8080/"
        },
        "id": "2869fa1d-a996-4499-b833-974be8636f13",
        "outputId": "0034cd98-6662-40f2-d14e-fcde0cf63209"
      },
      "outputs": [
        {
          "output_type": "execute_result",
          "data": {
            "text/plain": [
              "2023"
            ]
          },
          "metadata": {},
          "execution_count": 3
        }
      ],
      "source": [
        "dtnow.year # returns the current year"
      ]
    },
    {
      "cell_type": "code",
      "execution_count": 4,
      "id": "e1d67fbb-222a-454e-9410-b9ea0db835a6",
      "metadata": {
        "colab": {
          "base_uri": "https://localhost:8080/"
        },
        "id": "e1d67fbb-222a-454e-9410-b9ea0db835a6",
        "outputId": "e7cc2a04-5493-44d7-8f7d-4143d3def1a0"
      },
      "outputs": [
        {
          "output_type": "execute_result",
          "data": {
            "text/plain": [
              "(8, 1)"
            ]
          },
          "metadata": {},
          "execution_count": 4
        }
      ],
      "source": [
        "dtnow.month, dtnow.day # returns the current month and day"
      ]
    },
    {
      "cell_type": "code",
      "execution_count": 5,
      "id": "1d3b2bd4-d635-4a74-819d-d376397d9c58",
      "metadata": {
        "colab": {
          "base_uri": "https://localhost:8080/",
          "height": 36
        },
        "id": "1d3b2bd4-d635-4a74-819d-d376397d9c58",
        "outputId": "c34784f7-8c78-4de3-fcb0-d6e4800d276e"
      },
      "outputs": [
        {
          "output_type": "execute_result",
          "data": {
            "text/plain": [
              "'The current time now is 21:59:42'"
            ],
            "application/vnd.google.colaboratory.intrinsic+json": {
              "type": "string"
            }
          },
          "metadata": {},
          "execution_count": 5
        }
      ],
      "source": [
        "current_time_stat = \"The current time now is {}:{}:{}\".format(dtnow.hour, dtnow.minute, dtnow.second)\n",
        "current_time_stat"
      ]
    },
    {
      "cell_type": "raw",
      "id": "009da24d-914d-4d96-9f2b-d666cf722ec8",
      "metadata": {
        "id": "009da24d-914d-4d96-9f2b-d666cf722ec8"
      },
      "source": [
        "Now let's explore the timedelta!"
      ]
    },
    {
      "cell_type": "code",
      "execution_count": 6,
      "id": "b9cb305a-5815-4744-83ef-91a495e3864b",
      "metadata": {
        "colab": {
          "base_uri": "https://localhost:8080/"
        },
        "id": "b9cb305a-5815-4744-83ef-91a495e3864b",
        "outputId": "9f99a4da-b63d-44b0-c8f1-e6bf0ef71bbb"
      },
      "outputs": [
        {
          "output_type": "stream",
          "name": "stdout",
          "text": [
            "2555 days, 0:00:00\n"
          ]
        }
      ],
      "source": [
        "year = dt.timedelta(days=365)\n",
        "ten_years = year * 10\n",
        "three_years = year * 3\n",
        "\n",
        "print(ten_years - three_years)"
      ]
    },
    {
      "cell_type": "markdown",
      "id": "d8427302-89d9-4cfa-9164-79435d4f298f",
      "metadata": {
        "tags": [],
        "id": "d8427302-89d9-4cfa-9164-79435d4f298f"
      },
      "source": [
        "# Time\n"
      ]
    },
    {
      "cell_type": "raw",
      "id": "183065b0-2593-4601-9d31-e10d5febcf53",
      "metadata": {
        "id": "183065b0-2593-4601-9d31-e10d5febcf53"
      },
      "source": [
        "The functions in this library may not handle dates and times before the Epoch or far in the future. The cut-off point in the future is determined by the C library, which is typically the year of 2038. More on https://docs.python.org/3/library/time.html."
      ]
    },
    {
      "cell_type": "code",
      "execution_count": 7,
      "id": "71fa8391-38a0-4316-a991-5c05cb6bfb78",
      "metadata": {
        "id": "71fa8391-38a0-4316-a991-5c05cb6bfb78"
      },
      "outputs": [],
      "source": [
        "import time as tm"
      ]
    },
    {
      "cell_type": "code",
      "execution_count": 8,
      "id": "4d6ddf4d-e748-41d4-9c50-be1782ea2a66",
      "metadata": {
        "colab": {
          "base_uri": "https://localhost:8080/"
        },
        "id": "4d6ddf4d-e748-41d4-9c50-be1782ea2a66",
        "outputId": "a8be924d-5b65-4fd9-854d-2891b6e24fe2"
      },
      "outputs": [
        {
          "output_type": "execute_result",
          "data": {
            "text/plain": [
              "1690927269.9612525"
            ]
          },
          "metadata": {},
          "execution_count": 8
        }
      ],
      "source": [
        "tm.time() # current time since the epoch (the number of seconds elapsed since January 1st, 1970) excluding leap seconds"
      ]
    },
    {
      "cell_type": "code",
      "execution_count": 9,
      "id": "765f10db-e1ad-414f-ba45-da23118dd747",
      "metadata": {
        "colab": {
          "base_uri": "https://localhost:8080/"
        },
        "id": "765f10db-e1ad-414f-ba45-da23118dd747",
        "outputId": "d9283411-a329-4f7b-8609-6bda61cffb8b"
      },
      "outputs": [
        {
          "output_type": "execute_result",
          "data": {
            "text/plain": [
              "time.struct_time(tm_year=2023, tm_mon=8, tm_mday=1, tm_hour=22, tm_min=1, tm_sec=11, tm_wday=1, tm_yday=213, tm_isdst=0)"
            ]
          },
          "metadata": {},
          "execution_count": 9
        }
      ],
      "source": [
        "tm.localtime() # Returns the local time. If no argument is passed, the default value used is the return of the time() method."
      ]
    },
    {
      "cell_type": "code",
      "execution_count": 10,
      "id": "b6876e0c-cc70-4d33-acaa-93966f153816",
      "metadata": {
        "colab": {
          "base_uri": "https://localhost:8080/",
          "height": 36
        },
        "id": "b6876e0c-cc70-4d33-acaa-93966f153816",
        "outputId": "c04f97dc-882d-4ad0-9c1d-800af047d796"
      },
      "outputs": [
        {
          "output_type": "execute_result",
          "data": {
            "text/plain": [
              "'Sat Sep 29 14:30:00 2024'"
            ],
            "application/vnd.google.colaboratory.intrinsic+json": {
              "type": "string"
            }
          },
          "metadata": {},
          "execution_count": 10
        }
      ],
      "source": [
        "t = (2024, 9, 29, 14, 30, 0, 5, 286, 0) # struct_time format (year, month, day, hour, minute, second, weekday, day of the year, daylight saving)\n",
        "tm.asctime(t) # Returns a String in the format Name of the day, Month, Day, Time and Year. Takes a struct_time as argument."
      ]
    },
    {
      "cell_type": "code",
      "execution_count": 11,
      "id": "a0967de3-850d-47b2-8b22-5d30b8efadd5",
      "metadata": {
        "colab": {
          "base_uri": "https://localhost:8080/"
        },
        "id": "a0967de3-850d-47b2-8b22-5d30b8efadd5",
        "outputId": "e4027568-98ae-4a73-e720-590d7090fc6e"
      },
      "outputs": [
        {
          "output_type": "execute_result",
          "data": {
            "text/plain": [
              "0"
            ]
          },
          "metadata": {},
          "execution_count": 11
        }
      ],
      "source": [
        "tm.timezone # The offset of the local timezone in seconds west of UTC."
      ]
    },
    {
      "cell_type": "code",
      "execution_count": 12,
      "id": "b3a62222-fb08-4d6b-a8cf-64f1d1feff5c",
      "metadata": {
        "colab": {
          "base_uri": "https://localhost:8080/"
        },
        "id": "b3a62222-fb08-4d6b-a8cf-64f1d1feff5c",
        "outputId": "4603463f-c96e-425f-fe29-97e3693644ef"
      },
      "outputs": [
        {
          "output_type": "stream",
          "name": "stdout",
          "text": [
            "Instantaneous\n",
            "Delay of 5.5 seconds\n"
          ]
        }
      ],
      "source": [
        "print('Instantaneous')\n",
        "tm.sleep(5.5) # Takes seconds as argument and delays the current thread of the code for the given seconds. This one's really handy.\n",
        "print('Delay of 5.5 seconds')"
      ]
    }
  ],
  "metadata": {
    "kernelspec": {
      "display_name": "Python 3 (ipykernel)",
      "language": "python",
      "name": "python3"
    },
    "language_info": {
      "codemirror_mode": {
        "name": "ipython",
        "version": 3
      },
      "file_extension": ".py",
      "mimetype": "text/x-python",
      "name": "python",
      "nbconvert_exporter": "python",
      "pygments_lexer": "ipython3",
      "version": "3.9.13"
    },
    "colab": {
      "provenance": []
    }
  },
  "nbformat": 4,
  "nbformat_minor": 5
}