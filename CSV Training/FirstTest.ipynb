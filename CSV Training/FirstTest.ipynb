{
 "cells": [
  {
   "cell_type": "code",
   "execution_count": 1,
   "id": "11f77db6-7877-489d-9852-538d94361b90",
   "metadata": {},
   "outputs": [
    {
     "name": "stdout",
     "output_type": "stream",
     "text": [
      "5\n"
     ]
    }
   ],
   "source": [
    " x = 5\n",
    "print(x)"
   ]
  },
  {
   "cell_type": "code",
   "execution_count": 2,
   "id": "34d2e6dc-5fc1-460e-a405-c778ee2f3b66",
   "metadata": {},
   "outputs": [
    {
     "name": "stdout",
     "output_type": "stream",
     "text": [
      "25\n"
     ]
    }
   ],
   "source": [
    "print(x+20)"
   ]
  },
  {
   "cell_type": "code",
   "execution_count": 3,
   "id": "159a50b8-1bc0-4f77-b805-5720ff56f8fb",
   "metadata": {},
   "outputs": [
    {
     "data": {
      "text/plain": [
       "5"
      ]
     },
     "execution_count": 3,
     "metadata": {},
     "output_type": "execute_result"
    }
   ],
   "source": [
    "x"
   ]
  },
  {
   "cell_type": "code",
   "execution_count": 5,
   "id": "4ad82c53-3402-4290-9b7f-8525847c71d4",
   "metadata": {},
   "outputs": [
    {
     "data": {
      "text/plain": [
       "[2, 4, 6, 8, 10]"
      ]
     },
     "execution_count": 5,
     "metadata": {},
     "output_type": "execute_result"
    }
   ],
   "source": [
    "numbers = [1, 2, 3 ,4 ,5]\n",
    "double_numbers = list(map(lambda y: y * 2, numbers))\n",
    "double_numbers"
   ]
  },
  {
   "cell_type": "code",
   "execution_count": 6,
   "id": "3481023d-e7f6-42cb-94fc-bb6eb2d387ba",
   "metadata": {},
   "outputs": [
    {
     "name": "stdout",
     "output_type": "stream",
     "text": [
      "10\n"
     ]
    }
   ],
   "source": [
    "calculate_double = lambda y: y * 2\n",
    "print(calculate_double(5))"
   ]
  },
  {
   "cell_type": "code",
   "execution_count": 7,
   "id": "4963c33e-b455-4b70-8bef-a5a9d6a58d4d",
   "metadata": {},
   "outputs": [
    {
     "data": {
      "text/plain": [
       "[50, 100, 150, 200, 250, 300, 350, 400, 450, 500]"
      ]
     },
     "execution_count": 7,
     "metadata": {},
     "output_type": "execute_result"
    }
   ],
   "source": [
    "new_list = list(map(lambda y: y * 5, [y for y in range(1, 100+1) if y % 10 == 0]))\n",
    "new_list"
   ]
  },
  {
   "cell_type": "code",
   "execution_count": 8,
   "id": "614ef8a6-8361-4b1b-a1dd-f0026838800e",
   "metadata": {},
   "outputs": [
    {
     "data": {
      "text/plain": [
       "{50, 100, 150, 200, 250, 300, 350, 400, 450, 500}"
      ]
     },
     "execution_count": 8,
     "metadata": {},
     "output_type": "execute_result"
    }
   ],
   "source": [
    "sets_list = set(new_list)\n",
    "sets_list"
   ]
  },
  {
   "cell_type": "code",
   "execution_count": 9,
   "id": "f010fbfb-db80-4336-a37b-a63f8d8ca57c",
   "metadata": {},
   "outputs": [
    {
     "data": {
      "text/plain": [
       "[50, 100, 150, 200, 250, 300, 350, 400, 450, 500, 500]"
      ]
     },
     "execution_count": 9,
     "metadata": {},
     "output_type": "execute_result"
    }
   ],
   "source": [
    "new_list.append(500)\n",
    "new_list"
   ]
  },
  {
   "cell_type": "code",
   "execution_count": 10,
   "id": "aa8d82a1-6e3e-4c4b-9ad0-e6cff4cb5a2e",
   "metadata": {},
   "outputs": [
    {
     "data": {
      "text/plain": [
       "{50, 100, 150, 200, 250, 300, 350, 400, 450, 500}"
      ]
     },
     "execution_count": 10,
     "metadata": {},
     "output_type": "execute_result"
    }
   ],
   "source": [
    "sets_list"
   ]
  },
  {
   "cell_type": "code",
   "execution_count": 11,
   "id": "c09a5920-3432-4745-a9bd-d0c2973bb4a2",
   "metadata": {},
   "outputs": [
    {
     "data": {
      "text/plain": [
       "[50, 100, 150, 200, 250, 300, 350, 400, 450, 500, 500, 600]"
      ]
     },
     "execution_count": 11,
     "metadata": {},
     "output_type": "execute_result"
    }
   ],
   "source": [
    "new_list.append(600)\n",
    "new_list"
   ]
  },
  {
   "cell_type": "code",
   "execution_count": 13,
   "id": "86881253-06e7-4741-96da-db97365f2377",
   "metadata": {},
   "outputs": [
    {
     "data": {
      "text/plain": [
       "{50, 100, 150, 200, 250, 300, 350, 400, 450, 500, 600}"
      ]
     },
     "execution_count": 13,
     "metadata": {},
     "output_type": "execute_result"
    }
   ],
   "source": [
    "sets_list = set(new_list)\n",
    "sets_list"
   ]
  },
  {
   "cell_type": "code",
   "execution_count": 14,
   "id": "325e72ef-776f-4e45-9a43-4692c3263cfe",
   "metadata": {},
   "outputs": [
    {
     "name": "stdout",
     "output_type": "stream",
     "text": [
      "Everything is fine\n"
     ]
    }
   ],
   "source": [
    "print('Everything is fine')"
   ]
  }
 ],
 "metadata": {
  "kernelspec": {
   "display_name": "Python 3 (ipykernel)",
   "language": "python",
   "name": "python3"
  },
  "language_info": {
   "codemirror_mode": {
    "name": "ipython",
    "version": 3
   },
   "file_extension": ".py",
   "mimetype": "text/x-python",
   "name": "python",
   "nbconvert_exporter": "python",
   "pygments_lexer": "ipython3",
   "version": "3.8.10"
  },
  "toc-autonumbering": true,
  "toc-showcode": false,
  "toc-showmarkdowntxt": true,
  "toc-showtags": true
 },
 "nbformat": 4,
 "nbformat_minor": 5
}
