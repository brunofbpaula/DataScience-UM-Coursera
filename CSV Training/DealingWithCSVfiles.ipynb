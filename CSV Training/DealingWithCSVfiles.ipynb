{
 "cells": [
  {
   "cell_type": "code",
   "execution_count": 2,
   "id": "7d389989-6800-4e9d-8adf-669c6e38d8d2",
   "metadata": {},
   "outputs": [],
   "source": [
    "#Data Files\n",
    "import csv"
   ]
  },
  {
   "cell_type": "code",
   "execution_count": 3,
   "id": "2a78a01a-11f7-4de6-8b2d-607bd36ed47d",
   "metadata": {},
   "outputs": [
    {
     "data": {
      "text/plain": [
       "'%.2f'"
      ]
     },
     "execution_count": 3,
     "metadata": {},
     "output_type": "execute_result"
    }
   ],
   "source": [
    "%precision 2"
   ]
  },
  {
   "cell_type": "code",
   "execution_count": 4,
   "id": "22b0f07c-0067-463b-946b-68da699d51fe",
   "metadata": {},
   "outputs": [
    {
     "data": {
      "text/plain": [
       "{'': '1',\n",
       " 'manufacturer': 'audi',\n",
       " 'model': 'a4',\n",
       " 'displ': '1.8',\n",
       " 'year': '1999',\n",
       " 'cyl': '4',\n",
       " 'trans': 'auto(l5)',\n",
       " 'drv': 'f',\n",
       " 'cty': '18',\n",
       " 'hwy': '29',\n",
       " 'fl': 'p',\n",
       " 'class': 'compact'}"
      ]
     },
     "execution_count": 4,
     "metadata": {},
     "output_type": "execute_result"
    }
   ],
   "source": [
    "with open('resources/course1/week-1/datasets/mpg.csv') as csvfile: # open a file, find its directory and the give it an alias\n",
    "    mpg = list(csv.DictReader(csvfile)) # atributte the result to a variable, turn it into a list and use the DictReader function from the csv lib\n",
    "mpg[0]"
   ]
  },
  {
   "cell_type": "code",
   "execution_count": 5,
   "id": "60cf69b8-5995-444a-8812-ce42797d985f",
   "metadata": {},
   "outputs": [
    {
     "data": {
      "text/plain": [
       "'audi a4 1999'"
      ]
     },
     "execution_count": 5,
     "metadata": {},
     "output_type": "execute_result"
    }
   ],
   "source": [
    "car_statment = \"{} {} {}\".format(mpg[0]['manufacturer'], mpg[0]['model'], mpg[0]['year'])\n",
    "car_statment"
   ]
  },
  {
   "cell_type": "code",
   "execution_count": 9,
   "id": "7de53fd6-5398-42ba-b41c-18933e97ddb1",
   "metadata": {},
   "outputs": [
    {
     "data": {
      "text/plain": [
       "16.86"
      ]
     },
     "execution_count": 9,
     "metadata": {},
     "output_type": "execute_result"
    }
   ],
   "source": [
    "average_city_mpg = sum(float(d['cty']) for d in mpg) / len(mpg)\n",
    "average_city_mpg"
   ]
  },
  {
   "cell_type": "code",
   "execution_count": 10,
   "id": "42ad6acd-255d-476d-afdb-0c6dd2591e2c",
   "metadata": {},
   "outputs": [
    {
     "data": {
      "text/plain": [
       "23.44"
      ]
     },
     "execution_count": 10,
     "metadata": {},
     "output_type": "execute_result"
    }
   ],
   "source": [
    "average_hwy_mpg = sum(float(d['hwy']) for d in mpg) / len(mpg)\n",
    "average_hwy_mpg"
   ]
  },
  {
   "cell_type": "code",
   "execution_count": 12,
   "id": "6fb51f39-c77e-4e6e-b82c-286fe9967547",
   "metadata": {},
   "outputs": [],
   "source": [
    "average_cyl_mpg = sum(float(d['cyl']) for d in mpg) / len(mpg)"
   ]
  },
  {
   "cell_type": "code",
   "execution_count": 13,
   "id": "35260b2e-c08b-43a0-abbb-e4e2c69fdba8",
   "metadata": {},
   "outputs": [
    {
     "data": {
      "text/plain": [
       "5.89"
      ]
     },
     "execution_count": 13,
     "metadata": {},
     "output_type": "execute_result"
    }
   ],
   "source": [
    "average_cyl_mpg"
   ]
  },
  {
   "cell_type": "code",
   "execution_count": 14,
   "id": "68666442-e656-42e4-8978-74ed6ee1e97f",
   "metadata": {},
   "outputs": [
    {
     "data": {
      "text/plain": [
       "{'4', '5', '6', '8'}"
      ]
     },
     "execution_count": 14,
     "metadata": {},
     "output_type": "execute_result"
    }
   ],
   "source": [
    "cylinders = set(d['cyl'] for d in mpg)\n",
    "cylinders"
   ]
  },
  {
   "cell_type": "code",
   "execution_count": 38,
   "id": "42084959-80ab-4571-ae05-f4207041b21b",
   "metadata": {},
   "outputs": [
    {
     "data": {
      "text/plain": [
       "[('4', 21.01), ('5', 20.50), ('6', 16.22), ('8', 12.57)]"
      ]
     },
     "execution_count": 38,
     "metadata": {},
     "output_type": "execute_result"
    }
   ],
   "source": [
    "CtyMpgByCyl= []\n",
    "for c in cylinders:\n",
    "    summpg = 0\n",
    "    cyltypecount = 0\n",
    "    for d in mpg:\n",
    "        if d['cyl'] == c:\n",
    "            summpg += float(d['cty'])\n",
    "            cyltypecount += 1\n",
    "    CtyMpgByCyl.append((c, (summpg / cyltypecount)))\n",
    "    \n",
    "CtyMpgByCyl.sort(key=lambda y: y[0])\n",
    "CtyMpgByCyl"
   ]
  },
  {
   "cell_type": "code",
   "execution_count": 30,
   "id": "72d554b7-9934-4698-a566-1f332ee4df33",
   "metadata": {},
   "outputs": [
    {
     "data": {
      "text/plain": [
       "{'2seater', 'compact', 'midsize', 'minivan', 'pickup', 'subcompact', 'suv'}"
      ]
     },
     "execution_count": 30,
     "metadata": {},
     "output_type": "execute_result"
    }
   ],
   "source": [
    "vehicleclass = set(d['class'] for d in mpg)\n",
    "vehicleclass"
   ]
  },
  {
   "cell_type": "code",
   "execution_count": 36,
   "id": "499f4846-50df-4d82-990e-4b41a1b8f43e",
   "metadata": {},
   "outputs": [
    {
     "data": {
      "text/plain": [
       "[('pickup', 16.88),\n",
       " ('suv', 18.13),\n",
       " ('minivan', 22.36),\n",
       " ('2seater', 24.80),\n",
       " ('midsize', 27.29),\n",
       " ('subcompact', 28.14),\n",
       " ('compact', 28.30)]"
      ]
     },
     "execution_count": 36,
     "metadata": {},
     "output_type": "execute_result"
    }
   ],
   "source": [
    "HwyMpgByClass = []\n",
    "for vc in vehicleclass:\n",
    "    summpg = 0\n",
    "    vehiclecount = 0\n",
    "    for d in mpg:\n",
    "        if d['class'] == vc:\n",
    "            summpg += float(d['hwy'])\n",
    "            vehiclecount += 1\n",
    "    HwyMpgByClass.append((vc, (summpg / vehiclecount)))\n",
    "\n",
    "HwyMpgByClass.sort(key=lambda y: y[1])\n",
    "HwyMpgByClass"
   ]
  },
  {
   "cell_type": "code",
   "execution_count": null,
   "id": "f6a62046-d6fa-4d59-b6aa-fb998a04a5dc",
   "metadata": {},
   "outputs": [],
   "source": []
  }
 ],
 "metadata": {
  "kernelspec": {
   "display_name": "Python 3 (ipykernel)",
   "language": "python",
   "name": "python3"
  },
  "language_info": {
   "codemirror_mode": {
    "name": "ipython",
    "version": 3
   },
   "file_extension": ".py",
   "mimetype": "text/x-python",
   "name": "python",
   "nbconvert_exporter": "python",
   "pygments_lexer": "ipython3",
   "version": "3.8.10"
  },
  "toc-showcode": false
 },
 "nbformat": 4,
 "nbformat_minor": 5
}
