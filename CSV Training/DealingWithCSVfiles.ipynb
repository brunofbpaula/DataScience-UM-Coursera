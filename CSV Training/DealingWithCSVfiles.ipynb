{
  "cells": [
    {
      "cell_type": "markdown",
      "source": [
        "## **DATA FILES**"
      ],
      "metadata": {
        "id": "UoY6aLwYT01C"
      },
      "id": "UoY6aLwYT01C"
    },
    {
      "cell_type": "code",
      "execution_count": 11,
      "id": "7d389989-6800-4e9d-8adf-669c6e38d8d2",
      "metadata": {
        "id": "7d389989-6800-4e9d-8adf-669c6e38d8d2"
      },
      "outputs": [],
      "source": [
        "import csv"
      ]
    },
    {
      "cell_type": "code",
      "execution_count": null,
      "id": "2a78a01a-11f7-4de6-8b2d-607bd36ed47d",
      "metadata": {
        "id": "2a78a01a-11f7-4de6-8b2d-607bd36ed47d"
      },
      "outputs": [],
      "source": [
        "%precision 2"
      ]
    },
    {
      "cell_type": "markdown",
      "source": [
        "MPG *Dataset*"
      ],
      "metadata": {
        "id": "Pyr0Vg5-Wu7x"
      },
      "id": "Pyr0Vg5-Wu7x"
    },
    {
      "cell_type": "code",
      "execution_count": 13,
      "id": "22b0f07c-0067-463b-946b-68da699d51fe",
      "metadata": {
        "id": "22b0f07c-0067-463b-946b-68da699d51fe",
        "outputId": "61c017ea-37b3-42c5-e17d-467e951d08d5",
        "colab": {
          "base_uri": "https://localhost:8080/"
        }
      },
      "outputs": [
        {
          "output_type": "execute_result",
          "data": {
            "text/plain": [
              "{'': '1',\n",
              " 'manufacturer': 'audi',\n",
              " 'model': 'a4',\n",
              " 'displ': '1.8',\n",
              " 'year': '1999',\n",
              " 'cyl': '4',\n",
              " 'trans': 'auto(l5)',\n",
              " 'drv': 'f',\n",
              " 'cty': '18',\n",
              " 'hwy': '29',\n",
              " 'fl': 'p',\n",
              " 'class': 'compact'}"
            ]
          },
          "metadata": {},
          "execution_count": 13
        }
      ],
      "source": [
        "with open('datasets/mpg.csv') as csvfile: # open a file, find its directory and then give it an alias\n",
        "    mpg = list(csv.DictReader(csvfile)) # atributte the result to a variable, transform it into a list and use the DictReader function from the csv lib\n",
        "\n",
        "mpg[0] # taking a look at the first dictionary in the list"
      ]
    },
    {
      "cell_type": "code",
      "execution_count": 14,
      "id": "60cf69b8-5995-444a-8812-ce42797d985f",
      "metadata": {
        "id": "60cf69b8-5995-444a-8812-ce42797d985f",
        "outputId": "33dace5f-694a-413d-b32f-bb0c7ffed6db",
        "colab": {
          "base_uri": "https://localhost:8080/",
          "height": 36
        }
      },
      "outputs": [
        {
          "output_type": "execute_result",
          "data": {
            "text/plain": [
              "'audi a4 1999'"
            ],
            "application/vnd.google.colaboratory.intrinsic+json": {
              "type": "string"
            }
          },
          "metadata": {},
          "execution_count": 14
        }
      ],
      "source": [
        "car_statment = \"{} {} {}\".format(mpg[0]['manufacturer'], mpg[0]['model'], mpg[0]['year']) # Concatenating statment\n",
        "car_statment"
      ]
    },
    {
      "cell_type": "code",
      "execution_count": 15,
      "id": "7de53fd6-5398-42ba-b41c-18933e97ddb1",
      "metadata": {
        "id": "7de53fd6-5398-42ba-b41c-18933e97ddb1",
        "outputId": "ea05c280-4a30-4f63-88f2-4fc410a65f10",
        "colab": {
          "base_uri": "https://localhost:8080/"
        }
      },
      "outputs": [
        {
          "output_type": "execute_result",
          "data": {
            "text/plain": [
              "16.86"
            ]
          },
          "metadata": {},
          "execution_count": 15
        }
      ],
      "source": [
        "average_city_mpg = sum(float(d['cty']) for d in mpg) / len(mpg)\n",
        "average_city_mpg"
      ]
    },
    {
      "cell_type": "code",
      "execution_count": 16,
      "id": "42ad6acd-255d-476d-afdb-0c6dd2591e2c",
      "metadata": {
        "id": "42ad6acd-255d-476d-afdb-0c6dd2591e2c",
        "outputId": "b80d9b46-f984-4bc1-e3e7-f88ed7578565",
        "colab": {
          "base_uri": "https://localhost:8080/"
        }
      },
      "outputs": [
        {
          "output_type": "execute_result",
          "data": {
            "text/plain": [
              "23.44"
            ]
          },
          "metadata": {},
          "execution_count": 16
        }
      ],
      "source": [
        "average_hwy_mpg = sum(float(d['hwy']) for d in mpg) / len(mpg)\n",
        "average_hwy_mpg"
      ]
    },
    {
      "cell_type": "code",
      "execution_count": 17,
      "id": "6fb51f39-c77e-4e6e-b82c-286fe9967547",
      "metadata": {
        "id": "6fb51f39-c77e-4e6e-b82c-286fe9967547"
      },
      "outputs": [],
      "source": [
        "average_cyl_mpg = sum(float(d['cyl']) for d in mpg) / len(mpg)"
      ]
    },
    {
      "cell_type": "code",
      "execution_count": 18,
      "id": "35260b2e-c08b-43a0-abbb-e4e2c69fdba8",
      "metadata": {
        "id": "35260b2e-c08b-43a0-abbb-e4e2c69fdba8",
        "outputId": "4d61d57c-ea1e-4435-8268-b7d382705176",
        "colab": {
          "base_uri": "https://localhost:8080/"
        }
      },
      "outputs": [
        {
          "output_type": "execute_result",
          "data": {
            "text/plain": [
              "5.89"
            ]
          },
          "metadata": {},
          "execution_count": 18
        }
      ],
      "source": [
        "average_cyl_mpg"
      ]
    },
    {
      "cell_type": "code",
      "execution_count": 19,
      "id": "68666442-e656-42e4-8978-74ed6ee1e97f",
      "metadata": {
        "id": "68666442-e656-42e4-8978-74ed6ee1e97f",
        "outputId": "1756c719-37a1-4cbf-d70a-efc379141e4a",
        "colab": {
          "base_uri": "https://localhost:8080/"
        }
      },
      "outputs": [
        {
          "output_type": "execute_result",
          "data": {
            "text/plain": [
              "{'4', '5', '6', '8'}"
            ]
          },
          "metadata": {},
          "execution_count": 19
        }
      ],
      "source": [
        "cylinders = set(d['cyl'] for d in mpg)\n",
        "cylinders"
      ]
    },
    {
      "cell_type": "code",
      "execution_count": 20,
      "id": "42084959-80ab-4571-ae05-f4207041b21b",
      "metadata": {
        "id": "42084959-80ab-4571-ae05-f4207041b21b",
        "outputId": "3b50a727-3b6c-4a5c-b09e-2ecb8d963554",
        "colab": {
          "base_uri": "https://localhost:8080/"
        }
      },
      "outputs": [
        {
          "output_type": "execute_result",
          "data": {
            "text/plain": [
              "[('4', 21.01), ('5', 20.50), ('6', 16.22), ('8', 12.57)]"
            ]
          },
          "metadata": {},
          "execution_count": 20
        }
      ],
      "source": [
        "CtyMpgByCyl= []\n",
        "for c in cylinders:\n",
        "    summpg = 0\n",
        "    cyltypecount = 0\n",
        "    for d in mpg:\n",
        "        if d['cyl'] == c:\n",
        "            summpg += float(d['cty'])\n",
        "            cyltypecount += 1\n",
        "    CtyMpgByCyl.append((c, (summpg / cyltypecount)))\n",
        "\n",
        "CtyMpgByCyl.sort(key=lambda y: y[0])\n",
        "CtyMpgByCyl"
      ]
    },
    {
      "cell_type": "code",
      "execution_count": 21,
      "id": "72d554b7-9934-4698-a566-1f332ee4df33",
      "metadata": {
        "id": "72d554b7-9934-4698-a566-1f332ee4df33",
        "outputId": "60cb494e-b61f-492e-ba32-889f538e3ba1",
        "colab": {
          "base_uri": "https://localhost:8080/"
        }
      },
      "outputs": [
        {
          "output_type": "execute_result",
          "data": {
            "text/plain": [
              "{'2seater', 'compact', 'midsize', 'minivan', 'pickup', 'subcompact', 'suv'}"
            ]
          },
          "metadata": {},
          "execution_count": 21
        }
      ],
      "source": [
        "vehicleclass = set(d['class'] for d in mpg)\n",
        "vehicleclass"
      ]
    },
    {
      "cell_type": "code",
      "execution_count": 22,
      "id": "499f4846-50df-4d82-990e-4b41a1b8f43e",
      "metadata": {
        "id": "499f4846-50df-4d82-990e-4b41a1b8f43e",
        "outputId": "a3d43360-32dd-4adf-8e8f-8eb1606b80e5",
        "colab": {
          "base_uri": "https://localhost:8080/"
        }
      },
      "outputs": [
        {
          "output_type": "execute_result",
          "data": {
            "text/plain": [
              "[('pickup', 16.88),\n",
              " ('suv', 18.13),\n",
              " ('minivan', 22.36),\n",
              " ('2seater', 24.80),\n",
              " ('midsize', 27.29),\n",
              " ('subcompact', 28.14),\n",
              " ('compact', 28.30)]"
            ]
          },
          "metadata": {},
          "execution_count": 22
        }
      ],
      "source": [
        "HwyMpgByClass = []\n",
        "for vc in vehicleclass:\n",
        "    summpg = 0\n",
        "    vehiclecount = 0\n",
        "    for d in mpg:\n",
        "        if d['class'] == vc:\n",
        "            summpg += float(d['hwy'])\n",
        "            vehiclecount += 1\n",
        "    HwyMpgByClass.append((vc, (summpg / vehiclecount)))\n",
        "\n",
        "HwyMpgByClass.sort(key=lambda y: y[1])\n",
        "HwyMpgByClass"
      ]
    },
    {
      "cell_type": "code",
      "execution_count": null,
      "id": "f6a62046-d6fa-4d59-b6aa-fb998a04a5dc",
      "metadata": {
        "id": "f6a62046-d6fa-4d59-b6aa-fb998a04a5dc"
      },
      "outputs": [],
      "source": []
    }
  ],
  "metadata": {
    "kernelspec": {
      "display_name": "Python 3 (ipykernel)",
      "language": "python",
      "name": "python3"
    },
    "language_info": {
      "codemirror_mode": {
        "name": "ipython",
        "version": 3
      },
      "file_extension": ".py",
      "mimetype": "text/x-python",
      "name": "python",
      "nbconvert_exporter": "python",
      "pygments_lexer": "ipython3",
      "version": "3.8.10"
    },
    "toc-showcode": false,
    "colab": {
      "provenance": []
    }
  },
  "nbformat": 4,
  "nbformat_minor": 5
}