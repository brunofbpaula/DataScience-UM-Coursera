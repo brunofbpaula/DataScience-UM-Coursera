{
 "cells": [
  {
   "cell_type": "markdown",
   "metadata": {
    "deletable": false,
    "editable": false,
    "etc_identifier": "653a3605-5bda-4e1f-beef-04a0173d3f41",
    "nbgrader": {
     "cell_type": "markdown",
     "checksum": "60da2e57814a61cf6a81dd670bf35473",
     "grade": false,
     "grade_id": "cell-a6c4f74309fc2379",
     "locked": true,
     "schema_version": 3,
     "solution": false
    }
   },
   "source": [
    "# Assignment 4\n",
    "## Description\n",
    "In this assignment you must read in a file of metropolitan regions and associated sports teams from [assets/wikipedia_data.html](assets/wikipedia_data.html) and answer some questions about each metropolitan region. Each of these regions may have one or more teams from the \"Big 4\": NFL (football, in [assets/nfl.csv](assets/nfl.csv)), MLB (baseball, in [assets/mlb.csv](assets/mlb.csv)), NBA (basketball, in [assets/nba.csv](assets/nba.csv) or NHL (hockey, in [assets/nhl.csv](assets/nhl.csv)). Please keep in mind that all questions are from the perspective of the metropolitan region, and that this file is the \"source of authority\" for the location of a given sports team. Thus teams which are commonly known by a different area (e.g. \"Oakland Raiders\") need to be mapped into the metropolitan region given (e.g. San Francisco Bay Area). This will require some human data understanding outside of the data you've been given (e.g. you will have to hand-code some names, and might need to google to find out where teams are)!\n",
    "\n",
    "For each sport I would like you to answer the question: **what is the win/loss ratio's correlation with the population of the city it is in?** Win/Loss ratio refers to the number of wins over the number of wins plus the number of losses. Remember that to calculate the correlation with [`pearsonr`](https://docs.scipy.org/doc/scipy/reference/generated/scipy.stats.pearsonr.html), so you are going to send in two ordered lists of values, the populations from the wikipedia_data.html file and the win/loss ratio for a given sport in the same order. Average the win/loss ratios for those cities which have multiple teams of a single sport. Each sport is worth an equal amount in this assignment (20%\\*4=80%) of the grade for this assignment. You should only use data **from year 2018** for your analysis -- this is important!\n",
    "\n",
    "## Notes\n",
    "\n",
    "1. Do not include data about the MLS or CFL in any of the work you are doing, we're only interested in the Big 4 in this assignment.\n",
    "2. I highly suggest that you first tackle the four correlation questions in order, as they are all similar and worth the majority of grades for this assignment. This is by design!\n",
    "3. It's fair game to talk with peers about high level strategy as well as the relationship between metropolitan areas and sports teams. However, do not post code solving aspects of the assignment (including such as dictionaries mapping areas to teams, or regexes which will clean up names).\n",
    "4. There may be more teams than the assert statements test, remember to collapse multiple teams in one city into a single value!\n",
    "\n",
    "As this assignment utilizes global variables in the skeleton code, to avoid having errors in your code you can either:\n",
    "\n",
    "1. You can place all of your code within the function definitions for all of the questions (other than import statements).\n",
    "2. You can create copies of all the global variables with the copy() method and proceed as usual."
   ]
  },
  {
   "cell_type": "markdown",
   "metadata": {
    "deletable": false,
    "editable": false,
    "nbgrader": {
     "cell_type": "markdown",
     "checksum": "369ff9ecf0ee04640574205cbc697f94",
     "grade": false,
     "grade_id": "cell-712b2b5da63d4505",
     "locked": true,
     "schema_version": 3,
     "solution": false
    }
   },
   "source": [
    "## Question 1\n",
    "For this question, calculate the win/loss ratio's correlation with the population of the city it is in for the **NHL** using **2018** data."
   ]
  },
  {
   "cell_type": "code",
   "execution_count": 2,
   "metadata": {
    "deletable": false,
    "nbgrader": {
     "cell_type": "code",
     "checksum": "1cac4803b02502929f5b1612d48db2b5",
     "grade": false,
     "grade_id": "cell-69b16e4386e58030",
     "locked": false,
     "schema_version": 3,
     "solution": true
    }
   },
   "outputs": [],
   "source": [
    "import pandas as pd\n",
    "import numpy as np\n",
    "import scipy.stats as stats\n",
    "import re\n",
    "\n",
    "\n",
    "\n",
    "def nhl_correlation():\n",
    "    \n",
    "    nhl_df=pd.read_csv(\"assets/nhl.csv\")\n",
    "    cities=pd.read_html(\"assets/wikipedia_data.html\")[1]\n",
    "    cities=cities.iloc[:-1,[0,3,5,6,7,8]]\n",
    "\n",
    "    # Keeping only columns of interest\n",
    "    nhl_2018 = nhl_df[nhl_df.year == 2018]\n",
    "    nhl_2018 = nhl_2018[['team', 'W', 'L', 'year']]\n",
    "    \n",
    "    # Cleaning teams' names in NHL DataFrame\n",
    "    def clean_team(item):\n",
    "      if item[-1] == '*':\n",
    "        item= item[:-1]\n",
    "        return item\n",
    "      return item\n",
    "    \n",
    "    # Separating columns of interest in cities DataFrame\n",
    "    cities.rename(columns={'Population (2016 est.)[8]': 'Population Estimate 2016'}, inplace=True)\n",
    "    cities = cities[['Metropolitan area', 'Population Estimate 2016', 'NHL']]\n",
    "    nhl_2018['team'] = nhl_2018.team.apply(clean_team)\n",
    "    \n",
    "    # Cleaning teams' names in cities DataFrame\n",
    "    def clean_city(item):\n",
    "      if '[' in item:\n",
    "        return re.findall('([\\w\\s]*)\\[', item)[0]\n",
    "      return item\n",
    "    cities['NHL'] = cities.NHL.apply(clean_city)\n",
    "    \n",
    "    # Removing divisions from NHL DataFrame\n",
    "    nhl_2018 = nhl_2018[~nhl_2018.W.str.contains('Division')]\n",
    "    \n",
    "    # Separate team's names from cities' names\n",
    "    nhl_2018['team'] = nhl_2018.team.apply(lambda y: y.rsplit(None, 1)[-1])\n",
    "    nhl_2018.loc[3, 'team'] = 'Maple Leafs'\n",
    "    nhl_2018.loc[5, 'team'] = 'Red Wings'\n",
    "    nhl_2018.loc[13, 'team'] = 'Blue Jackets'\n",
    "    nhl_2018.loc[27, 'team'] = 'Golden Knights'\n",
    "    \n",
    "    # Replacing names of teams from the same city\n",
    "    nhl_2018.loc[14, 'team'] = 'Rangers Islanders Devils'\n",
    "    nhl_2018.loc[16, 'team'] = 'Rangers Islanders Devils'\n",
    "    nhl_2018.loc[17, 'team'] = 'Rangers Islanders Devils'\n",
    "    nhl_2018.loc[28, 'team'] = 'Kings Ducks'\n",
    "    nhl_2018.loc[30, 'team'] = 'Kings Ducks'\n",
    "    \n",
    "    # Asserting datatypes\n",
    "    nhl_2018.W = nhl_2018.W.astype(float)\n",
    "    nhl_2018.L = nhl_2018.L.astype(float)\n",
    "\n",
    "    # Grouping by teams with same name and getting ther average W and L values\n",
    "    nhl_2018 = nhl_2018.groupby(by='team', )['W', 'L'].mean()\n",
    "    nhl_2018.reset_index(inplace=True)\n",
    "    \n",
    "    # Merging DataFrames\n",
    "    cities.rename(columns={'NHL': 'team'}, inplace=True)\n",
    "    merged = pd.merge(nhl_2018, cities, how='inner', on='team')\n",
    "    \n",
    "    # Creating Win/Loss ratio column\n",
    "    merged['Win/Loss Ratio'] = merged.W / (merged.W + merged.L)\n",
    "\n",
    "    # Passing in the numeric values of population_by_region and win_loss_by_region\n",
    "    population_by_region = pd.to_numeric(merged['Population Estimate 2016'], errors='coerce')\n",
    "    win_loss_by_region = pd.to_numeric(merged['Win/Loss Ratio'], errors='coerce')\n",
    "\n",
    "    assert len(population_by_region) == len(win_loss_by_region), \"Q1: Your lists must be the same length\"\n",
    "    assert len(population_by_region) == 28, \"Q1: There should be 28 teams being analysed for NHL\"\n",
    "    \n",
    "    answer = stats.pearsonr(population_by_region, win_loss_by_region)[0]\n",
    "    return answer"
   ]
  },
  {
   "cell_type": "code",
   "execution_count": null,
   "metadata": {
    "deletable": false,
    "editable": false,
    "nbgrader": {
     "cell_type": "code",
     "checksum": "52a581df513c71153e105b93764cda4b",
     "grade": true,
     "grade_id": "cell-ebe0b2dfe1067e63",
     "locked": true,
     "points": 20,
     "schema_version": 3,
     "solution": false
    }
   },
   "outputs": [],
   "source": []
  },
  {
   "cell_type": "markdown",
   "metadata": {
    "deletable": false,
    "editable": false,
    "nbgrader": {
     "cell_type": "markdown",
     "checksum": "988912cae4968d81473f46d783e79c16",
     "grade": false,
     "grade_id": "cell-cb964e690298b71d",
     "locked": true,
     "schema_version": 3,
     "solution": false
    }
   },
   "source": [
    "## Question 2\n",
    "For this question, calculate the win/loss ratio's correlation with the population of the city it is in for the **NBA** using **2018** data."
   ]
  },
  {
   "cell_type": "code",
   "execution_count": 3,
   "metadata": {
    "deletable": false,
    "nbgrader": {
     "cell_type": "code",
     "checksum": "9394222aafc8ccab0a228098ba0d6010",
     "grade": false,
     "grade_id": "cell-5a5f21279e3d3572",
     "locked": false,
     "schema_version": 3,
     "solution": true
    }
   },
   "outputs": [],
   "source": [
    "import pandas as pd\n",
    "import numpy as np\n",
    "import scipy.stats as stats\n",
    "import re\n",
    "\n",
    "\n",
    "\n",
    "def nba_correlation():\n",
    "    \n",
    "    nba_df=pd.read_csv(\"assets/nba.csv\")\n",
    "    cities=pd.read_html(\"assets/wikipedia_data.html\")[1]\n",
    "    cities=cities.iloc[:-1,[0,3,5,6,7,8]]\n",
    "    \n",
    "    # Filtering data\n",
    "    nba_2018 = nba_df[nba_df.year == 2018]\n",
    "    \n",
    "    # Cleaning teams' names in NBA DataFrame\n",
    "    def clean_team(item):\n",
    "      if \"(\" in item:\n",
    "        item = re.findall('^(.*?)\\s\\(\\d+\\)$', item)[0]\n",
    "        if item[-1] == '*':\n",
    "          item = item[:-1]\n",
    "          return item\n",
    "      return item\n",
    "    nba_2018['team'] = nba_2018.team.apply(clean_team)\n",
    "    \n",
    "    # Cleaning NBA teams names in cities DataFrame\n",
    "    cities['NBA'] = cities.NBA.apply(lambda x: re.findall('([\\w\\s]*)\\[', x)[0] if '[' in x else x)\n",
    "    \n",
    "    # Keeping only columns of interest\n",
    "    cities.rename(columns={'Population (2016 est.)[8]': 'Population Estimate 2016', 'NBA': 'team'}, inplace=True)\n",
    "    cities = cities[['Metropolitan area', 'Population Estimate 2016', 'team']]\n",
    "    nba_2018 = nba_2018[['team', 'W', 'L']]\n",
    "    \n",
    "    # Separating team's names from cities' names and standardizing names\n",
    "    nba_2018['team'] = nba_2018.team.apply(lambda x: x.rsplit(None, 1)[-1])\n",
    "    nba_2018.loc[17, 'team'] = 'Trail Blazers'\n",
    "    nba_2018.loc[10, 'team'] = 'Knicks Nets'\n",
    "    nba_2018.loc[11, 'team'] = 'Knicks Nets'\n",
    "    nba_2018.loc[24, 'team'] = 'Lakers Clippers'\n",
    "    nba_2018.loc[25, 'team'] = 'Lakers Clippers'\n",
    "    \n",
    "    # Asserting datatypes\n",
    "    nba_2018.W = nba_2018.W.astype(float)\n",
    "    nba_2018.L = nba_2018.L.astype(float)\n",
    "    \n",
    "    # Grouping rows with same name\n",
    "    nba_2018 = nba_2018.groupby(by='team')['W', 'L'].mean()\n",
    "    nba_2018.reset_index()\n",
    "    \n",
    "    # Merging DataFrames\n",
    "    merged = pd.merge(nba_2018, cities, how='inner', on='team')\n",
    "    merged.W = merged.W.astype(float)\n",
    "    merged.L = merged.L.astype(float)\n",
    "    \n",
    "    # Creating Win/Loss Ratio column\n",
    "    merged['Win/Loss Ratio'] = merged.W/(merged.W + merged.L)\n",
    "\n",
    "    # Passing in values\n",
    "    population_by_region = pd.to_numeric(merged['Population Estimate 2016'], errors='coerce')\n",
    "    win_loss_by_region = pd.to_numeric(merged['Win/Loss Ratio'], errors='coerce')\n",
    "\n",
    "    assert len(population_by_region) == len(win_loss_by_region), \"Q2: Your lists must be the same length\"\n",
    "    assert len(population_by_region) == 28, \"Q2: There should be 28 teams being analysed for NBA\"\n",
    "    \n",
    "    answer = stats.pearsonr(population_by_region, win_loss_by_region)[0]\n",
    "    answer\n",
    "    \n",
    "    return answer"
   ]
  },
  {
   "cell_type": "code",
   "execution_count": null,
   "metadata": {
    "deletable": false,
    "editable": false,
    "nbgrader": {
     "cell_type": "code",
     "checksum": "bbdeb8eb22f525a34c10dc8798324e42",
     "grade": true,
     "grade_id": "cell-e573b2b4a282b470",
     "locked": true,
     "points": 20,
     "schema_version": 3,
     "solution": false
    }
   },
   "outputs": [],
   "source": []
  },
  {
   "cell_type": "markdown",
   "metadata": {
    "deletable": false,
    "editable": false,
    "nbgrader": {
     "cell_type": "markdown",
     "checksum": "1a1a5809f675ca033086422007cd73bd",
     "grade": false,
     "grade_id": "cell-96e15e4335df78f4",
     "locked": true,
     "schema_version": 3,
     "solution": false
    }
   },
   "source": [
    "## Question 3\n",
    "For this question, calculate the win/loss ratio's correlation with the population of the city it is in for the **MLB** using **2018** data."
   ]
  },
  {
   "cell_type": "code",
   "execution_count": 4,
   "metadata": {
    "deletable": false,
    "nbgrader": {
     "cell_type": "code",
     "checksum": "27e8c0da6c9fa0dffc10488314335b6c",
     "grade": false,
     "grade_id": "cell-33b00fc3f3467b0c",
     "locked": false,
     "schema_version": 3,
     "solution": true
    }
   },
   "outputs": [],
   "source": [
    "import pandas as pd\n",
    "import numpy as np\n",
    "import scipy.stats as stats\n",
    "import re\n",
    "\n",
    "\n",
    "\n",
    "def mlb_correlation():\n",
    "    \n",
    "    mlb_df=pd.read_csv(\"assets/mlb.csv\")\n",
    "    cities=pd.read_html(\"assets/wikipedia_data.html\")[1]\n",
    "    cities=cities.iloc[:-1,[0,3,5,6,7,8]]\n",
    "    \n",
    "    # Getting 2018 data\n",
    "    mlb_2018 = mlb_df[mlb_df.year == 2018]\n",
    "    \n",
    "    # Cleaning MLB teams names in cities DataFrame\n",
    "    cities['MLB'] = cities.MLB.apply(lambda x: re.findall('([\\w\\s]*)\\[', x)[0] if '[' in x else x)\n",
    "\n",
    "    # Keeping only columns of interest\n",
    "    mlb_2018 = mlb_2018[['team', 'W', 'L']]\n",
    "    cities.rename(columns={'Population (2016 est.)[8]': 'Population Estimate 2016', 'MLB': 'team'}, inplace=True)\n",
    "    cities = cities[['Metropolitan area', 'Population Estimate 2016', 'team']]\n",
    "    \n",
    "    # Separating team's names from cities' names and standardizing names\n",
    "    mlb_2018['team'] = mlb_2018.team.apply(lambda x: x.rsplit(None, 1)[-1])\n",
    "    mlb_2018.loc[13, 'team'] = 'Dodgers Angels'\n",
    "    mlb_2018.loc[25, 'team'] = 'Dodgers Angels'\n",
    "    mlb_2018.loc[1, 'team'] = 'Yankees Mets'\n",
    "    mlb_2018.loc[18, 'team'] = 'Yankees Mets'\n",
    "    mlb_2018.loc[28, 'team'] = 'Giants Athletics'\n",
    "    mlb_2018.loc[11, 'team'] = 'Giants Athletics'\n",
    "    mlb_2018.loc[8, 'team'] = 'Cubs White Sox'\n",
    "    mlb_2018.loc[21, 'team'] = 'Cubs White Sox'\n",
    "    mlb_2018.loc[0, 'team'] = 'Red Sox'\n",
    "    mlb_2018.loc[3, 'team'] = 'Blue Jays'\n",
    "    \n",
    "    # Asserting datatype\n",
    "    mlb_2018.W = mlb_2018.W.astype(float)\n",
    "    mlb_2018.L = mlb_2018.L.astype(float)\n",
    "\n",
    "    # Grouping by teams from same city\n",
    "    mlb_2018 = mlb_2018.groupby(by='team')['W', 'L'].mean()\n",
    "    mlb_2018.reset_index()\n",
    "    \n",
    "    # Merging DataFrames\n",
    "    merged = pd.merge(mlb_2018, cities, how='inner', on='team')\n",
    "    merged.W = merged.W.astype(float)\n",
    "    merged.L = merged.L.astype(float)\n",
    "\n",
    "    # Creating Win/Loss Ratio column\n",
    "    merged['Win/Loss Ratio'] = merged.W/(merged.W + merged.L)\n",
    "\n",
    "    # Passing in values\n",
    "    population_by_region = pd.to_numeric(merged['Population Estimate 2016'], errors='coerce')\n",
    "    win_loss_by_region = pd.to_numeric(merged['Win/Loss Ratio'], errors='coerce')\n",
    "    \n",
    "    assert len(population_by_region) == len(win_loss_by_region), \"Q3: Your lists must be the same length\"\n",
    "    assert len(population_by_region) == 26, \"Q3: There should be 26 teams being analysed for MLB\"\n",
    "    \n",
    "    answer = stats.pearsonr(population_by_region, win_loss_by_region)[0]\n",
    "    return answer"
   ]
  },
  {
   "cell_type": "code",
   "execution_count": null,
   "metadata": {
    "deletable": false,
    "editable": false,
    "nbgrader": {
     "cell_type": "code",
     "checksum": "cda33b094ba19ccc37a481e0dd29e0bc",
     "grade": true,
     "grade_id": "cell-764d4476f425c5a2",
     "locked": true,
     "points": 20,
     "schema_version": 3,
     "solution": false
    }
   },
   "outputs": [],
   "source": []
  },
  {
   "cell_type": "markdown",
   "metadata": {
    "deletable": false,
    "editable": false,
    "nbgrader": {
     "cell_type": "markdown",
     "checksum": "6977a6da9ed6d8b7a0b7e37bbeda709b",
     "grade": false,
     "grade_id": "cell-793df6c04dfb126e",
     "locked": true,
     "schema_version": 3,
     "solution": false
    }
   },
   "source": [
    "## Question 4\n",
    "For this question, calculate the win/loss ratio's correlation with the population of the city it is in for the **NFL** using **2018** data."
   ]
  },
  {
   "cell_type": "code",
   "execution_count": 5,
   "metadata": {
    "deletable": false,
    "nbgrader": {
     "cell_type": "code",
     "checksum": "c4914ad1e119278ec2bd567c52640b66",
     "grade": false,
     "grade_id": "cell-8ccebc209aeec8d9",
     "locked": false,
     "schema_version": 3,
     "solution": true
    }
   },
   "outputs": [
    {
     "data": {
      "text/plain": [
       "0.00492211214934943"
      ]
     },
     "execution_count": 5,
     "metadata": {},
     "output_type": "execute_result"
    }
   ],
   "source": [
    "import pandas as pd\n",
    "import numpy as np\n",
    "import scipy.stats as stats\n",
    "import re\n",
    "\n",
    "\n",
    "\n",
    "def nfl_correlation():\n",
    "    \n",
    "    nfl_df=pd.read_csv(\"assets/nfl.csv\")\n",
    "    cities=pd.read_html(\"assets/wikipedia_data.html\")[1]\n",
    "    cities=cities.iloc[:-1,[0,3,5,6,7,8]]\n",
    "    \n",
    "    # Gathering and cleaning data of interest\n",
    "    nfl_2018 = nfl_df[nfl_df.year == 2018]\n",
    "    nfl_2018 = nfl_2018[['team', 'W', 'L']]\n",
    "    nfl_2018['team'] = nfl_2018.team.apply(lambda x: re.findall('([\\w\\s]*)\\*', x)[0] if '*' in x else x)\n",
    "    nfl_2018['team'] = nfl_2018.team.apply(lambda x: re.findall('([\\w\\s]*)\\+', x)[0] if '+' in x else x)\n",
    "    nfl_2018 = nfl_2018[~nfl_2018.team.str.contains('AFC')]\n",
    "    nfl_2018 = nfl_2018[~nfl_2018.team.str.contains('NFC')]\n",
    "    \n",
    "    # Separating teams and cities and standardizing names\n",
    "    nfl_2018['team'] = nfl_2018.team.apply(lambda x: x.rsplit(None, 1)[-1])\n",
    "    nfl_2018.loc[38, 'team'] = '49ers Raiders'\n",
    "    nfl_2018.loc[19, 'team'] = '49ers Raiders'\n",
    "    nfl_2018.loc[17, 'team'] = 'Rams Chargers'\n",
    "    nfl_2018.loc[36, 'team'] = 'Rams Chargers'\n",
    "    nfl_2018.loc[4, 'team'] = 'Giants Jets'\n",
    "    nfl_2018.loc[24, 'team'] = 'Giants Jets'\n",
    "    \n",
    "    # Keeping only columns of interest\n",
    "    cities.rename(columns={'Population (2016 est.)[8]': 'Population Estimate 2016', 'NFL': 'team'}, inplace=True)\n",
    "    cities = cities[['Metropolitan area', 'Population Estimate 2016', 'team']]\n",
    "    cities['team'] = cities.team.apply(lambda x: re.findall('([\\w\\s]*)\\[', x)[0] if '[' in x else x)\n",
    "    \n",
    "    # Asserting datatypes\n",
    "    nfl_2018.W = nfl_2018.W.astype(float)\n",
    "    nfl_2018.L = nfl_2018.L.astype(float)\n",
    "\n",
    "    # Grouping teams from the same city\n",
    "    nfl_2018 = nfl_2018.groupby(by='team')['W', 'L'].mean()\n",
    "    nfl_2018.reset_index(inplace=True)\n",
    "\n",
    "    # Merging DataFrames\n",
    "    merged = pd.merge(nfl_2018, cities, how='inner', on='team')\n",
    "    merged.W = merged.W.astype(float)\n",
    "    merged.L = merged.L.astype(float)\n",
    "\n",
    "    # Creating Win/Loss Ratio column\n",
    "    merged['Win/Loss Ratio'] = merged.W/(merged.W + merged.L)\n",
    "\n",
    "    # Passing in values\n",
    "    population_by_region = pd.to_numeric(merged['Population Estimate 2016'], errors='coerce')\n",
    "    win_loss_by_region = pd.to_numeric(merged['Win/Loss Ratio'], errors='coerce')\n",
    "\n",
    "    assert len(population_by_region) == len(win_loss_by_region), \"Q4: Your lists must be the same length\"\n",
    "    assert len(population_by_region) == 29, \"Q4: There should be 29 teams being analysed for NFL\"\n",
    "\n",
    "    answer = stats.pearsonr(population_by_region, win_loss_by_region)[0]\n",
    "    \n",
    "    return answer\n",
    "\n",
    "nfl_correlation()"
   ]
  },
  {
   "cell_type": "code",
   "execution_count": null,
   "metadata": {
    "deletable": false,
    "editable": false,
    "nbgrader": {
     "cell_type": "code",
     "checksum": "e9415d6399aa49e3a1a60813afdefa3b",
     "grade": true,
     "grade_id": "cell-de7b148b9554dbda",
     "locked": true,
     "points": 20,
     "schema_version": 3,
     "solution": false
    }
   },
   "outputs": [],
   "source": []
  },
  {
   "cell_type": "markdown",
   "metadata": {
    "deletable": false,
    "editable": false,
    "nbgrader": {
     "cell_type": "markdown",
     "checksum": "b02d5cd3273f561e4ae939bb2a41740c",
     "grade": false,
     "grade_id": "cell-97b49d8639e908c4",
     "locked": true,
     "schema_version": 3,
     "solution": false
    }
   },
   "source": [
    "## Question 5\n",
    "In this question I would like you to explore the hypothesis that **given that an area has two sports teams in different sports, those teams will perform the same within their respective sports**. How I would like to see this explored is with a series of paired t-tests (so use [`ttest_rel`](https://docs.scipy.org/doc/scipy/reference/generated/scipy.stats.ttest_rel.html)) between all pairs of sports. Are there any sports where we can reject the null hypothesis? Again, average values where a sport has multiple teams in one region. Remember, you will only be including, for each sport, cities which have teams engaged in that sport, drop others as appropriate. This question is worth 20% of the grade for this assignment."
   ]
  },
  {
   "cell_type": "code",
   "execution_count": null,
   "metadata": {
    "deletable": false,
    "nbgrader": {
     "cell_type": "code",
     "checksum": "6d78c961eb66f8d8c81f06d33ae8f393",
     "grade": false,
     "grade_id": "cell-92f25f44b8d1179f",
     "locked": false,
     "schema_version": 3,
     "solution": true
    }
   },
   "outputs": [],
   "source": [
    "import pandas as pd\n",
    "import numpy as np\n",
    "import scipy.stats as stats\n",
    "import re\n",
    "\n",
    "mlb_df=pd.read_csv(\"assets/mlb.csv\")\n",
    "nhl_df=pd.read_csv(\"assets/nhl.csv\")\n",
    "nba_df=pd.read_csv(\"assets/nba.csv\")\n",
    "nfl_df=pd.read_csv(\"assets/nfl.csv\")\n",
    "cities=pd.read_html(\"assets/wikipedia_data.html\")[1]\n",
    "cities=cities.iloc[:-1,[0,3,5,6,7,8]]\n",
    "\n",
    "def sports_team_performance():\n",
    "    # YOUR CODE HERE\n",
    "    raise NotImplementedError()\n",
    "    \n",
    "    # Note: p_values is a full dataframe, so df.loc[\"NFL\",\"NBA\"] should be the same as df.loc[\"NBA\",\"NFL\"] and\n",
    "    # df.loc[\"NFL\",\"NFL\"] should return np.nan\n",
    "    sports = ['NFL', 'NBA', 'NHL', 'MLB']\n",
    "    p_values = pd.DataFrame({k:np.nan for k in sports}, index=sports)\n",
    "    \n",
    "    assert abs(p_values.loc[\"NBA\", \"NHL\"] - 0.02) <= 1e-2, \"The NBA-NHL p-value should be around 0.02\"\n",
    "    assert abs(p_values.loc[\"MLB\", \"NFL\"] - 0.80) <= 1e-2, \"The MLB-NFL p-value should be around 0.80\"\n",
    "    return p_values"
   ]
  },
  {
   "cell_type": "code",
   "execution_count": null,
   "metadata": {
    "deletable": false,
    "editable": false,
    "nbgrader": {
     "cell_type": "code",
     "checksum": "2a596ab421a45cc01168d10e8fbb8f89",
     "grade": true,
     "grade_id": "cell-fb4b9cb5ff4570a6",
     "locked": true,
     "points": 20,
     "schema_version": 3,
     "solution": false
    }
   },
   "outputs": [],
   "source": []
  }
 ],
 "metadata": {
  "etc_active_cell": 2,
  "kernelspec": {
   "display_name": "Python 3 (ipykernel)",
   "language": "python",
   "name": "python3"
  },
  "language_info": {
   "codemirror_mode": {
    "name": "ipython",
    "version": 3
   },
   "file_extension": ".py",
   "mimetype": "text/x-python",
   "name": "python",
   "nbconvert_exporter": "python",
   "pygments_lexer": "ipython3",
   "version": "3.9.13"
  }
 },
 "nbformat": 4,
 "nbformat_minor": 4
}
