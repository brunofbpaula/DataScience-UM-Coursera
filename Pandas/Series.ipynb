{
  "nbformat": 4,
  "nbformat_minor": 0,
  "metadata": {
    "colab": {
      "provenance": [],
      "authorship_tag": "ABX9TyMmhmRX46vCDZZEj6rJkPf5",
      "include_colab_link": true
    },
    "kernelspec": {
      "name": "python3",
      "display_name": "Python 3"
    },
    "language_info": {
      "name": "python"
    }
  },
  "cells": [
    {
      "cell_type": "markdown",
      "metadata": {
        "id": "view-in-github",
        "colab_type": "text"
      },
      "source": [
        "<a href=\"https://colab.research.google.com/github/brunofbpaula/DataScience-UM-Coursera/blob/main/Pandas/Series.ipynb\" target=\"_parent\"><img src=\"https://colab.research.google.com/assets/colab-badge.svg\" alt=\"Open In Colab\"/></a>"
      ]
    },
    {
      "cell_type": "markdown",
      "source": [
        "# Series Data Structure\n",
        "\n",
        "It is one of the core data structures in pandas. It's sort of a cross between a list and a dictionary. Items are stored in order and there's labels with which you can retrieve them.\n",
        "\n",
        "They are displayed in two columns of data, which the first one is the special index and the second the actual data."
      ],
      "metadata": {
        "id": "KvaVhX6OWKZG"
      }
    },
    {
      "cell_type": "code",
      "execution_count": 1,
      "metadata": {
        "id": "I4LVuPTRWGuv"
      },
      "outputs": [],
      "source": [
        "import pandas as pd"
      ]
    },
    {
      "cell_type": "code",
      "source": [
        "# In the code line below, there's a list of jujutsu kaisen characters, all strings.\n",
        "jjk = ['Satoru Gojo', 'Suguru Geto', 'Toji Fushiguro']\n",
        "\n",
        "# The Series function identifies the type of data as an 'object'.\n",
        "pd.Series(jjk)"
      ],
      "metadata": {
        "colab": {
          "base_uri": "https://localhost:8080/"
        },
        "id": "nXDmUvGXWJzd",
        "outputId": "b490f52c-42f4-4e0f-99b1-8bbc6173f648"
      },
      "execution_count": null,
      "outputs": [
        {
          "output_type": "execute_result",
          "data": {
            "text/plain": [
              "0       Satoru Gojo\n",
              "1       Suguru Geto\n",
              "2    Toji Fushiguro\n",
              "dtype: object"
            ]
          },
          "metadata": {},
          "execution_count": 2
        }
      ]
    },
    {
      "cell_type": "code",
      "source": [
        "# And it's possible to acess a data by its index.\n",
        "pd.Series(jjk)[1]"
      ],
      "metadata": {
        "colab": {
          "base_uri": "https://localhost:8080/",
          "height": 36
        },
        "id": "86mbNr5VgdeM",
        "outputId": "6fdf31a1-ef5b-44da-88ed-fdd65de2a06c"
      },
      "execution_count": null,
      "outputs": [
        {
          "output_type": "execute_result",
          "data": {
            "text/plain": [
              "'Suguru Geto'"
            ],
            "application/vnd.google.colaboratory.intrinsic+json": {
              "type": "string"
            }
          },
          "metadata": {},
          "execution_count": 3
        }
      ]
    },
    {
      "cell_type": "markdown",
      "source": [
        "Underneath Pandas stores series values in a typed array using the Numpy library. This offers significant speedup when processing data versus traditional python lists."
      ],
      "metadata": {
        "id": "NVZpkyd8hGNy"
      }
    },
    {
      "cell_type": "code",
      "source": [
        "last_titles = [2012, 2015, 2017]\n",
        "\n",
        "# Pandas identifies a list of integers as the type int64.\n",
        "pd.Series(last_titles)"
      ],
      "metadata": {
        "colab": {
          "base_uri": "https://localhost:8080/"
        },
        "id": "4GkpbIzdg3ga",
        "outputId": "9f0d0781-88bf-40b0-c2bf-4d670eb6e235"
      },
      "execution_count": null,
      "outputs": [
        {
          "output_type": "execute_result",
          "data": {
            "text/plain": [
              "0    2012\n",
              "1    2015\n",
              "2    2017\n",
              "dtype: int64"
            ]
          },
          "metadata": {},
          "execution_count": 4
        }
      ]
    },
    {
      "cell_type": "markdown",
      "source": [
        "## Missing data\n",
        "\n",
        "In python, the None type indicates a lack of data. In pandas, in a list of strings with one element of a None type, panda inserts this element as a None and sets the type 'object' for the underlying array."
      ],
      "metadata": {
        "id": "aUlZcZuViBXv"
      }
    },
    {
      "cell_type": "code",
      "source": [
        "jjk = ['Yuji Itadori', 'Megumi Fushiguro', None]\n",
        "\n",
        "pd.Series(jjk)"
      ],
      "metadata": {
        "colab": {
          "base_uri": "https://localhost:8080/"
        },
        "id": "Z3STHusFh4rn",
        "outputId": "357fe20a-b4a4-4665-f7cd-e40d4ad27429"
      },
      "execution_count": null,
      "outputs": [
        {
          "output_type": "execute_result",
          "data": {
            "text/plain": [
              "0        Yuji Itadori\n",
              "1    Megumi Fushiguro\n",
              "2                None\n",
              "dtype: object"
            ]
          },
          "metadata": {},
          "execution_count": 5
        }
      ]
    },
    {
      "cell_type": "markdown",
      "source": [
        "However, it is different when it comes to lists of numbers. When a list of integers and/or floats contains a None type, pandas automatically converts this to a special floating point value designated as NaN, which stands for 'Not a Number'. And NaN and None are not the same thing."
      ],
      "metadata": {
        "id": "S0XHZqfRjN2e"
      }
    },
    {
      "cell_type": "code",
      "source": [
        "last_titles = [2017, None, None]\n",
        "\n",
        "print(pd.Series(last_titles))"
      ],
      "metadata": {
        "colab": {
          "base_uri": "https://localhost:8080/"
        },
        "id": "8IJJJW97jMii",
        "outputId": "a103ef33-b72a-42e8-d53a-dd3f284acf3c"
      },
      "execution_count": null,
      "outputs": [
        {
          "output_type": "execute_result",
          "data": {
            "text/plain": [
              "0    2017.0\n",
              "1       NaN\n",
              "2       NaN\n",
              "dtype: float64"
            ]
          },
          "metadata": {},
          "execution_count": 7
        }
      ]
    },
    {
      "cell_type": "code",
      "source": [
        "import numpy as np\n",
        "\n",
        "print(f'NaN is equivalent to None = {np.nan == None}')\n",
        "print(f'NaN is equal to NaN = {np.nan == np.nan}')\n",
        "print(f'NaN is NaN = {np.isnan(np.nan)}')"
      ],
      "metadata": {
        "colab": {
          "base_uri": "https://localhost:8080/"
        },
        "id": "VXyZ21hvjrFn",
        "outputId": "3859cf6d-5d20-446a-d66f-05ec266c601d"
      },
      "execution_count": null,
      "outputs": [
        {
          "output_type": "stream",
          "name": "stdout",
          "text": [
            "NaN is equivalent to None = False\n",
            "NaN is equal to NaN = False\n",
            "NaN is NaN = True\n"
          ]
        }
      ]
    },
    {
      "cell_type": "markdown",
      "source": [
        "### Dictionaries\n",
        "\n",
        "When a Series is created directly from a dictionary, the keys are assigned to the index of the values and not just incrementing integers."
      ],
      "metadata": {
        "id": "eh093P1Okze5"
      }
    },
    {
      "cell_type": "code",
      "source": [
        "jjk = {\n",
        "    'Protagonist': 'Yuji Itadori',\n",
        "    'The Strongest': 'Satoru Gojo',\n",
        "    'King of Curses': 'Ryomen Sukuna'\n",
        "}\n",
        "\n",
        "jjk = pd.Series(jjk)\n",
        "\n",
        "print(jjk)\n",
        "print(f'\\n{jjk.index}')"
      ],
      "metadata": {
        "colab": {
          "base_uri": "https://localhost:8080/"
        },
        "id": "P4sy4ZDfkljz",
        "outputId": "f63d5a6f-27d7-43a1-c5c7-5ccbae581290"
      },
      "execution_count": null,
      "outputs": [
        {
          "output_type": "stream",
          "name": "stdout",
          "text": [
            "Protagonist        Yuji Itadori\n",
            "The Strongest       Satoru Gojo\n",
            "King of Curses    Ryomen Sukuna\n",
            "dtype: object\n",
            "\n",
            "Index(['Protagonist', 'The Strongest', 'King of Curses'], dtype='object')\n"
          ]
        }
      ]
    },
    {
      "cell_type": "markdown",
      "source": [
        "### More complex type of data\n",
        "\n",
        "Dealing with tuples, separeted indexes and missing data."
      ],
      "metadata": {
        "id": "HK2xwhiegRPF"
      }
    },
    {
      "cell_type": "code",
      "source": [
        "# A list of tuples. It's stored the same way strings are, as an 'object'.\n",
        "jjk = [('Yuta', 'Rika'), ('Satoru Gojo', 'Suguru Geto'), ('Yuji Itadori', 'Megumi Fushiguro')]\n",
        "pd.Series(jjk)"
      ],
      "metadata": {
        "colab": {
          "base_uri": "https://localhost:8080/"
        },
        "id": "LFYp5ob5lzVo",
        "outputId": "217fe030-01e0-4e61-87de-93f703c280f9"
      },
      "execution_count": null,
      "outputs": [
        {
          "output_type": "execute_result",
          "data": {
            "text/plain": [
              "0                        (Yuta, Rika)\n",
              "1          (Satoru Gojo, Suguru Geto)\n",
              "2    (Yuji Itadori, Megumi Fushiguro)\n",
              "dtype: object"
            ]
          },
          "metadata": {},
          "execution_count": 11
        }
      ]
    },
    {
      "cell_type": "code",
      "source": [
        "# Passing the index as a list\n",
        "characters = [\"Satoru Gojo\", \"Ryomen Sukuna\", \"Kenjaku\"]\n",
        "titles = ['Honored One', 'King of Curses', 'Mastermind']\n",
        "\n",
        "pd.Series(characters, index=[titles])"
      ],
      "metadata": {
        "colab": {
          "base_uri": "https://localhost:8080/"
        },
        "id": "Y16T7iE_nvIt",
        "outputId": "b217dc46-b3dd-4c48-eb97-67e3e9f86b09"
      },
      "execution_count": null,
      "outputs": [
        {
          "output_type": "execute_result",
          "data": {
            "text/plain": [
              "Honored One         Satoru Gojo\n",
              "King of Curses    Ryomen Sukuna\n",
              "Mastermind              Kenjaku\n",
              "dtype: object"
            ]
          },
          "metadata": {},
          "execution_count": 12
        }
      ]
    },
    {
      "cell_type": "code",
      "source": [
        "# Providing data not-existent inside dictionary as a index\n",
        "\n",
        "jjk_domains = {\n",
        "    'Satoru Gojo': 'Infinity',\n",
        "    'Ryomen Sukuna': 'Malevolent Shrine',\n",
        "    'Mahito': 'Self-Embodiment of Perfection'\n",
        "}\n",
        "\n",
        "pd.Series(jjk_domains, index=[\"Mahito\", 'Ryomen Sukuna', 'Yuta Okkotsu'])"
      ],
      "metadata": {
        "id": "NNLWpBqpzY4z",
        "outputId": "1498889f-f1a3-42d5-b040-36bdc4d48a56",
        "colab": {
          "base_uri": "https://localhost:8080/"
        }
      },
      "execution_count": 3,
      "outputs": [
        {
          "output_type": "execute_result",
          "data": {
            "text/plain": [
              "Mahito           Self-Embodiment of Perfection\n",
              "Ryomen Sukuna                Malevolent Shrine\n",
              "Yuta Okkotsu                               NaN\n",
              "dtype: object"
            ]
          },
          "metadata": {},
          "execution_count": 3
        }
      ]
    },
    {
      "cell_type": "markdown",
      "source": [
        "The result is that the Series object doesn't have a domain value for Yuta Okkotsu, so it sets a NaN (sometimes it can be a None) value to it. At the same time, Satoru Gojo and his Infinity, which were in the original dataset, are left out of the object."
      ],
      "metadata": {
        "id": "6NsVzwIvmA1d"
      }
    }
  ]
}