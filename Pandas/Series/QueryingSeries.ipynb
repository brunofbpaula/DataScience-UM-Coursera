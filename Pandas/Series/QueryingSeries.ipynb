{
  "nbformat": 4,
  "nbformat_minor": 0,
  "metadata": {
    "colab": {
      "provenance": [],
      "authorship_tag": "ABX9TyMw6vH7fIiiHVg9yT92XNIe",
      "include_colab_link": true
    },
    "kernelspec": {
      "name": "python3",
      "display_name": "Python 3"
    },
    "language_info": {
      "name": "python"
    }
  },
  "cells": [
    {
      "cell_type": "markdown",
      "metadata": {
        "id": "view-in-github",
        "colab_type": "text"
      },
      "source": [
        "<a href=\"https://colab.research.google.com/github/brunofbpaula/DataScience-UM-Coursera/blob/main/Pandas/QueryingSeries.ipynb\" target=\"_parent\"><img src=\"https://colab.research.google.com/assets/colab-badge.svg\" alt=\"Open In Colab\"/></a>"
      ]
    },
    {
      "cell_type": "markdown",
      "source": [
        "# Querying a Series\n",
        "\n",
        "Here's a study of the Series object, how to query and merge two or more together, and the importance of thinking about parallelization when engaging in data science programming."
      ],
      "metadata": {
        "id": "hla8a0dNnhb_"
      }
    },
    {
      "cell_type": "code",
      "execution_count": 1,
      "metadata": {
        "id": "oIZzMtw3nYGT"
      },
      "outputs": [],
      "source": [
        "import pandas as pd"
      ]
    },
    {
      "cell_type": "markdown",
      "source": [
        "A pandas Series can be queried either by the index position or the index label. If a Series isn't given an index in a query, the position and the label are effectively the same values.\n",
        "\n",
        "To query by the index label, the 'loc' attribute is used. Now, to query by numeric location and starting at zero, go for the 'iloc' attribute.\n",
        "\n",
        "Pandas provides a sort of smart syntax using the indexing operator directly on the Series itself. So, no need of 'loc' or 'iloc'.\n",
        "\n",
        "They are recommended for a safer and more explicit option. For example, if the index is a list of integers, it would make it impossible for Pandas to determine automatically whether the intention is to query by index position or index label."
      ],
      "metadata": {
        "id": "v4Vqxdl9n_0k"
      }
    },
    {
      "cell_type": "code",
      "source": [
        "# Let's create a dictionary with Jujutsu Kaisen characters as keys and their cursed techniques as values\n",
        "jjk_ct = {\n",
        "    'Satoru Gojo': 'Hollow Purple',\n",
        "    'Yuji Itadori': 'Kokusen',\n",
        "    'Megumi Fushiguro': 'Divine Dogs'\n",
        "}\n",
        "\n",
        "# Turn the dictionary into a Series object\n",
        "jjk_ct = pd.Series(jjk_ct)\n",
        "\n",
        "#\n",
        "print(jjk_ct.iloc[2])  # Same as jjk_ct[2]\n",
        "\n",
        "jjk_ct.loc['Satoru Gojo']  # Same as jjk_ct['Satoru Gojo']"
      ],
      "metadata": {
        "colab": {
          "base_uri": "https://localhost:8080/",
          "height": 53
        },
        "id": "fak9h2mVn-8M",
        "outputId": "fba4ca83-5cf2-4999-d366-b6f94d8ede09"
      },
      "execution_count": 2,
      "outputs": [
        {
          "output_type": "stream",
          "name": "stdout",
          "text": [
            "Divine Dogs\n"
          ]
        },
        {
          "output_type": "execute_result",
          "data": {
            "text/plain": [
              "'Hollow Purple'"
            ],
            "application/vnd.google.colaboratory.intrinsic+json": {
              "type": "string"
            }
          },
          "metadata": {},
          "execution_count": 2
        }
      ]
    },
    {
      "cell_type": "code",
      "source": [
        "# Now let's prove their importance with another example\n",
        "last_titles = {\n",
        "    2012: 'FIFA Club World Cup',\n",
        "    2013: 'Recopa Sudamericana',\n",
        "    2017: 'Domestic League Brasileirão',\n",
        "}\n",
        "\n",
        "last_titles = pd.Series(last_titles)\n",
        "\n",
        "# This will raise an error\n",
        "last_titles[0]"
      ],
      "metadata": {
        "colab": {
          "base_uri": "https://localhost:8080/",
          "height": 511
        },
        "id": "5HVGjqwPut4s",
        "outputId": "37966a28-50fd-4be1-a493-35fe95855fbd"
      },
      "execution_count": 3,
      "outputs": [
        {
          "output_type": "error",
          "ename": "KeyError",
          "evalue": "ignored",
          "traceback": [
            "\u001b[0;31m---------------------------------------------------------------------------\u001b[0m",
            "\u001b[0;31mKeyError\u001b[0m                                  Traceback (most recent call last)",
            "\u001b[0;32m/usr/local/lib/python3.10/dist-packages/pandas/core/indexes/base.py\u001b[0m in \u001b[0;36mget_loc\u001b[0;34m(self, key, method, tolerance)\u001b[0m\n\u001b[1;32m   3801\u001b[0m             \u001b[0;32mtry\u001b[0m\u001b[0;34m:\u001b[0m\u001b[0;34m\u001b[0m\u001b[0;34m\u001b[0m\u001b[0m\n\u001b[0;32m-> 3802\u001b[0;31m                 \u001b[0;32mreturn\u001b[0m \u001b[0mself\u001b[0m\u001b[0;34m.\u001b[0m\u001b[0m_engine\u001b[0m\u001b[0;34m.\u001b[0m\u001b[0mget_loc\u001b[0m\u001b[0;34m(\u001b[0m\u001b[0mcasted_key\u001b[0m\u001b[0;34m)\u001b[0m\u001b[0;34m\u001b[0m\u001b[0;34m\u001b[0m\u001b[0m\n\u001b[0m\u001b[1;32m   3803\u001b[0m             \u001b[0;32mexcept\u001b[0m \u001b[0mKeyError\u001b[0m \u001b[0;32mas\u001b[0m \u001b[0merr\u001b[0m\u001b[0;34m:\u001b[0m\u001b[0;34m\u001b[0m\u001b[0;34m\u001b[0m\u001b[0m\n",
            "\u001b[0;32m/usr/local/lib/python3.10/dist-packages/pandas/_libs/index.pyx\u001b[0m in \u001b[0;36mpandas._libs.index.IndexEngine.get_loc\u001b[0;34m()\u001b[0m\n",
            "\u001b[0;32m/usr/local/lib/python3.10/dist-packages/pandas/_libs/index.pyx\u001b[0m in \u001b[0;36mpandas._libs.index.IndexEngine.get_loc\u001b[0;34m()\u001b[0m\n",
            "\u001b[0;32mpandas/_libs/hashtable_class_helper.pxi\u001b[0m in \u001b[0;36mpandas._libs.hashtable.Int64HashTable.get_item\u001b[0;34m()\u001b[0m\n",
            "\u001b[0;32mpandas/_libs/hashtable_class_helper.pxi\u001b[0m in \u001b[0;36mpandas._libs.hashtable.Int64HashTable.get_item\u001b[0;34m()\u001b[0m\n",
            "\u001b[0;31mKeyError\u001b[0m: 0",
            "\nThe above exception was the direct cause of the following exception:\n",
            "\u001b[0;31mKeyError\u001b[0m                                  Traceback (most recent call last)",
            "\u001b[0;32m<ipython-input-3-915a76bf7908>\u001b[0m in \u001b[0;36m<cell line: 11>\u001b[0;34m()\u001b[0m\n\u001b[1;32m      9\u001b[0m \u001b[0;34m\u001b[0m\u001b[0m\n\u001b[1;32m     10\u001b[0m \u001b[0;31m# This will raise an error\u001b[0m\u001b[0;34m\u001b[0m\u001b[0;34m\u001b[0m\u001b[0m\n\u001b[0;32m---> 11\u001b[0;31m \u001b[0mlast_titles\u001b[0m\u001b[0;34m[\u001b[0m\u001b[0;36m0\u001b[0m\u001b[0;34m]\u001b[0m\u001b[0;34m\u001b[0m\u001b[0;34m\u001b[0m\u001b[0m\n\u001b[0m",
            "\u001b[0;32m/usr/local/lib/python3.10/dist-packages/pandas/core/series.py\u001b[0m in \u001b[0;36m__getitem__\u001b[0;34m(self, key)\u001b[0m\n\u001b[1;32m    979\u001b[0m \u001b[0;34m\u001b[0m\u001b[0m\n\u001b[1;32m    980\u001b[0m         \u001b[0;32melif\u001b[0m \u001b[0mkey_is_scalar\u001b[0m\u001b[0;34m:\u001b[0m\u001b[0;34m\u001b[0m\u001b[0;34m\u001b[0m\u001b[0m\n\u001b[0;32m--> 981\u001b[0;31m             \u001b[0;32mreturn\u001b[0m \u001b[0mself\u001b[0m\u001b[0;34m.\u001b[0m\u001b[0m_get_value\u001b[0m\u001b[0;34m(\u001b[0m\u001b[0mkey\u001b[0m\u001b[0;34m)\u001b[0m\u001b[0;34m\u001b[0m\u001b[0;34m\u001b[0m\u001b[0m\n\u001b[0m\u001b[1;32m    982\u001b[0m \u001b[0;34m\u001b[0m\u001b[0m\n\u001b[1;32m    983\u001b[0m         \u001b[0;32mif\u001b[0m \u001b[0mis_hashable\u001b[0m\u001b[0;34m(\u001b[0m\u001b[0mkey\u001b[0m\u001b[0;34m)\u001b[0m\u001b[0;34m:\u001b[0m\u001b[0;34m\u001b[0m\u001b[0;34m\u001b[0m\u001b[0m\n",
            "\u001b[0;32m/usr/local/lib/python3.10/dist-packages/pandas/core/series.py\u001b[0m in \u001b[0;36m_get_value\u001b[0;34m(self, label, takeable)\u001b[0m\n\u001b[1;32m   1087\u001b[0m \u001b[0;34m\u001b[0m\u001b[0m\n\u001b[1;32m   1088\u001b[0m         \u001b[0;31m# Similar to Index.get_value, but we do not fall back to positional\u001b[0m\u001b[0;34m\u001b[0m\u001b[0;34m\u001b[0m\u001b[0m\n\u001b[0;32m-> 1089\u001b[0;31m         \u001b[0mloc\u001b[0m \u001b[0;34m=\u001b[0m \u001b[0mself\u001b[0m\u001b[0;34m.\u001b[0m\u001b[0mindex\u001b[0m\u001b[0;34m.\u001b[0m\u001b[0mget_loc\u001b[0m\u001b[0;34m(\u001b[0m\u001b[0mlabel\u001b[0m\u001b[0;34m)\u001b[0m\u001b[0;34m\u001b[0m\u001b[0;34m\u001b[0m\u001b[0m\n\u001b[0m\u001b[1;32m   1090\u001b[0m         \u001b[0;32mreturn\u001b[0m \u001b[0mself\u001b[0m\u001b[0;34m.\u001b[0m\u001b[0mindex\u001b[0m\u001b[0;34m.\u001b[0m\u001b[0m_get_values_for_loc\u001b[0m\u001b[0;34m(\u001b[0m\u001b[0mself\u001b[0m\u001b[0;34m,\u001b[0m \u001b[0mloc\u001b[0m\u001b[0;34m,\u001b[0m \u001b[0mlabel\u001b[0m\u001b[0;34m)\u001b[0m\u001b[0;34m\u001b[0m\u001b[0;34m\u001b[0m\u001b[0m\n\u001b[1;32m   1091\u001b[0m \u001b[0;34m\u001b[0m\u001b[0m\n",
            "\u001b[0;32m/usr/local/lib/python3.10/dist-packages/pandas/core/indexes/base.py\u001b[0m in \u001b[0;36mget_loc\u001b[0;34m(self, key, method, tolerance)\u001b[0m\n\u001b[1;32m   3802\u001b[0m                 \u001b[0;32mreturn\u001b[0m \u001b[0mself\u001b[0m\u001b[0;34m.\u001b[0m\u001b[0m_engine\u001b[0m\u001b[0;34m.\u001b[0m\u001b[0mget_loc\u001b[0m\u001b[0;34m(\u001b[0m\u001b[0mcasted_key\u001b[0m\u001b[0;34m)\u001b[0m\u001b[0;34m\u001b[0m\u001b[0;34m\u001b[0m\u001b[0m\n\u001b[1;32m   3803\u001b[0m             \u001b[0;32mexcept\u001b[0m \u001b[0mKeyError\u001b[0m \u001b[0;32mas\u001b[0m \u001b[0merr\u001b[0m\u001b[0;34m:\u001b[0m\u001b[0;34m\u001b[0m\u001b[0;34m\u001b[0m\u001b[0m\n\u001b[0;32m-> 3804\u001b[0;31m                 \u001b[0;32mraise\u001b[0m \u001b[0mKeyError\u001b[0m\u001b[0;34m(\u001b[0m\u001b[0mkey\u001b[0m\u001b[0;34m)\u001b[0m \u001b[0;32mfrom\u001b[0m \u001b[0merr\u001b[0m\u001b[0;34m\u001b[0m\u001b[0;34m\u001b[0m\u001b[0m\n\u001b[0m\u001b[1;32m   3805\u001b[0m             \u001b[0;32mexcept\u001b[0m \u001b[0mTypeError\u001b[0m\u001b[0;34m:\u001b[0m\u001b[0;34m\u001b[0m\u001b[0;34m\u001b[0m\u001b[0m\n\u001b[1;32m   3806\u001b[0m                 \u001b[0;31m# If we have a listlike key, _check_indexing_error will raise\u001b[0m\u001b[0;34m\u001b[0m\u001b[0;34m\u001b[0m\u001b[0m\n",
            "\u001b[0;31mKeyError\u001b[0m: 0"
          ]
        }
      ]
    },
    {
      "cell_type": "code",
      "source": [
        "last_titles.iloc[0]"
      ],
      "metadata": {
        "colab": {
          "base_uri": "https://localhost:8080/",
          "height": 36
        },
        "id": "qP5ovTei-b2t",
        "outputId": "015e4a3f-2b93-4a67-a08d-fd3eff02c815"
      },
      "execution_count": 4,
      "outputs": [
        {
          "output_type": "execute_result",
          "data": {
            "text/plain": [
              "'FIFA Club World Cup'"
            ],
            "application/vnd.google.colaboratory.intrinsic+json": {
              "type": "string"
            }
          },
          "metadata": {},
          "execution_count": 4
        }
      ]
    },
    {
      "cell_type": "markdown",
      "source": [
        "Fixed it."
      ],
      "metadata": {
        "id": "r4_izryt-p6a"
      }
    },
    {
      "cell_type": "markdown",
      "source": [
        "## Iterating through a Series\n",
        "\n"
      ],
      "metadata": {
        "id": "F1DyzKnXX-La"
      }
    },
    {
      "cell_type": "code",
      "source": [
        "# Interating through a list of grades to figure out the average grade\n",
        "grades = pd.Series([100, 90, 95, 97, 85, 84])\n",
        "\n",
        "# Using a for loop\n",
        "total = 0\n",
        "for grade in grades:\n",
        "  total += grade\n",
        "\n",
        "print(total/len(grades))"
      ],
      "metadata": {
        "id": "mWGqa6V-Wxf2",
        "outputId": "d8843b71-25a8-45fc-904e-9efda2293e29",
        "colab": {
          "base_uri": "https://localhost:8080/"
        }
      },
      "execution_count": 8,
      "outputs": [
        {
          "output_type": "stream",
          "name": "stdout",
          "text": [
            "91.83333333333333\n"
          ]
        }
      ]
    },
    {
      "cell_type": "code",
      "source": [
        "# Using Numpy\n",
        "\n",
        "import numpy as np\n",
        "\n",
        "total = np.sum(grades)\n",
        "print(total/len(grades))"
      ],
      "metadata": {
        "id": "y4lV-jjtY05M",
        "outputId": "00bcbb34-2dab-45f1-d63a-9bdda3e7a5c1",
        "colab": {
          "base_uri": "https://localhost:8080/"
        }
      },
      "execution_count": 11,
      "outputs": [
        {
          "output_type": "stream",
          "name": "stdout",
          "text": [
            "91.83333333333333\n"
          ]
        }
      ]
    },
    {
      "cell_type": "markdown",
      "source": [
        "Both give us the same result. But one of them is actually faster than the another. And the Jupyter Notebook has a function to check it out."
      ],
      "metadata": {
        "id": "g1jObHYcZMuE"
      }
    },
    {
      "cell_type": "code",
      "source": [
        "# Big Series of random numbers\n",
        "\n",
        "numbers = pd.Series(np.random.randint(0, 1000, 10000))\n",
        "\n",
        "# Returns the first five items (it's a Pandas function)\n",
        "numbers.head()"
      ],
      "metadata": {
        "id": "QG9uUjxYZIL5",
        "outputId": "61cf8c8d-9ea8-4501-91ba-5923e249f6a3",
        "colab": {
          "base_uri": "https://localhost:8080/"
        }
      },
      "execution_count": 16,
      "outputs": [
        {
          "output_type": "execute_result",
          "data": {
            "text/plain": [
              "0    375\n",
              "1     71\n",
              "2     14\n",
              "3    279\n",
              "4    247\n",
              "dtype: int64"
            ]
          },
          "metadata": {},
          "execution_count": 16
        }
      ]
    },
    {
      "cell_type": "markdown",
      "source": [
        "The ipython interpreter has something called magic functions, which begins with a percentage sign. Below is a cellular magic function. It wraps the code in the current cell."
      ],
      "metadata": {
        "id": "dhBaK4FHa34F"
      }
    },
    {
      "cell_type": "code",
      "source": [
        "# This one is called timeit. It will run the code a few times to determine how long it takes on average.\n",
        "# The '-n 100' is the times we want it to run.\n",
        "%%timeit -n 100\n",
        "\n",
        "# For loop\n",
        "total = 0\n",
        "for number in numbers:\n",
        "  total += number\n",
        "\n",
        "total/len(numbers)"
      ],
      "metadata": {
        "id": "fdiZt95aZymE",
        "outputId": "7edd1b0d-4518-4f2d-f5cf-c50991722aea",
        "colab": {
          "base_uri": "https://localhost:8080/"
        }
      },
      "execution_count": 20,
      "outputs": [
        {
          "output_type": "stream",
          "name": "stdout",
          "text": [
            "5.11 ms ± 2.07 ms per loop (mean ± std. dev. of 7 runs, 100 loops each)\n"
          ]
        }
      ]
    },
    {
      "cell_type": "code",
      "source": [
        "%%timeit -n 100\n",
        "\n",
        "# Using numpy\n",
        "total = np.sum(numbers)\n",
        "total/len(numbers)"
      ],
      "metadata": {
        "id": "zkSJJFgsp48m",
        "outputId": "646ddfbc-9d02-456a-8fe5-2faf0e718609",
        "colab": {
          "base_uri": "https://localhost:8080/"
        }
      },
      "execution_count": 22,
      "outputs": [
        {
          "output_type": "stream",
          "name": "stdout",
          "text": [
            "123 µs ± 45.9 µs per loop (mean ± std. dev. of 7 runs, 100 loops each)\n"
          ]
        }
      ]
    },
    {
      "cell_type": "markdown",
      "source": [
        "We can see that the second form is the fastest. This method is called vectorization - the ability for a computer to execute multiple instructions at once.\n",
        "\n",
        "With high performance chips, especially graphic cards, dramatic speedups are achived. Modern graphic cards can run thousands of instruction in parallel."
      ],
      "metadata": {
        "id": "9H7funposUKu"
      }
    },
    {
      "cell_type": "markdown",
      "source": [
        "## Broadcasting\n",
        "\n",
        "It's possible to apply an operation to every value in the Series, changing the Series. They are usually faster than procedural ways and more readable as well."
      ],
      "metadata": {
        "id": "FAIW3IP4tZ77"
      }
    },
    {
      "cell_type": "code",
      "source": [
        "numbers.head()"
      ],
      "metadata": {
        "id": "xk6LT7PnrH0U",
        "outputId": "10bb290e-d982-468f-8c66-e69693e87a74",
        "colab": {
          "base_uri": "https://localhost:8080/"
        }
      },
      "execution_count": 30,
      "outputs": [
        {
          "output_type": "execute_result",
          "data": {
            "text/plain": [
              "0    377\n",
              "1     73\n",
              "2     16\n",
              "3    281\n",
              "4    249\n",
              "dtype: int64"
            ]
          },
          "metadata": {},
          "execution_count": 30
        }
      ]
    },
    {
      "cell_type": "code",
      "source": [
        "numbers += 2\n",
        "numbers.head()"
      ],
      "metadata": {
        "id": "ziSgivthulHf",
        "outputId": "0f94349f-f2c5-4085-a192-00ea9a1c8bab",
        "colab": {
          "base_uri": "https://localhost:8080/"
        }
      },
      "execution_count": 32,
      "outputs": [
        {
          "output_type": "execute_result",
          "data": {
            "text/plain": [
              "0    379\n",
              "1     75\n",
              "2     18\n",
              "3    283\n",
              "4    251\n",
              "dtype: int64"
            ]
          },
          "metadata": {},
          "execution_count": 32
        }
      ]
    },
    {
      "cell_type": "code",
      "source": [
        "%%timeit -n 100\n",
        "\n",
        "# Broadcasting\n",
        "n = pd.Series(np.random.randint(0, 1000, 10000))\n",
        "n +=2"
      ],
      "metadata": {
        "id": "cVsApWMGuoP_",
        "outputId": "91c82dee-8ff2-400b-9ef5-13f7bdb95898",
        "colab": {
          "base_uri": "https://localhost:8080/"
        }
      },
      "execution_count": 38,
      "outputs": [
        {
          "output_type": "stream",
          "name": "stdout",
          "text": [
            "246 µs ± 54.3 µs per loop (mean ± std. dev. of 7 runs, 100 loops each)\n"
          ]
        }
      ]
    },
    {
      "cell_type": "code",
      "source": [
        "%%timeit -n 10\n",
        "\n",
        "# For loop\n",
        "n = pd.Series(np.random.randint(0, 1000, 1000))\n",
        "\n",
        "for label, value in n.items():\n",
        "  n.loc[label] = value + 2"
      ],
      "metadata": {
        "id": "MuOd80eDyV2d",
        "outputId": "fbfd08b7-c90f-41c2-aaca-2335ba6e789e",
        "colab": {
          "base_uri": "https://localhost:8080/"
        }
      },
      "execution_count": 39,
      "outputs": [
        {
          "output_type": "stream",
          "name": "stdout",
          "text": [
            "42.4 ms ± 1.43 ms per loop (mean ± std. dev. of 7 runs, 10 loops each)\n"
          ]
        }
      ]
    },
    {
      "cell_type": "markdown",
      "source": [
        "## New Index\n",
        "\n",
        "It's possible to add a new entry to the Series object using the loc attribute by passing an index that doens't exist in it."
      ],
      "metadata": {
        "id": "P5IghR6h0SO-"
      }
    },
    {
      "cell_type": "code",
      "source": [
        "new_series = pd.Series(np.random.randint(0, 3, 3))\n",
        "new_series.loc['Satoru Gojo'] = 'Infinity'\n",
        "\n",
        "new_series"
      ],
      "metadata": {
        "id": "b0vDta8Xy4i9",
        "outputId": "ba9c3b2c-78fd-4859-fded-bc3fa3781ca5",
        "colab": {
          "base_uri": "https://localhost:8080/"
        }
      },
      "execution_count": 42,
      "outputs": [
        {
          "output_type": "execute_result",
          "data": {
            "text/plain": [
              "0                     1\n",
              "1                     1\n",
              "2                     2\n",
              "Satoru Gojo    Infinity\n",
              "dtype: object"
            ]
          },
          "metadata": {},
          "execution_count": 42
        }
      ]
    },
    {
      "cell_type": "markdown",
      "source": [
        "## Not Unique Indexes\n",
        "\n",
        "This makes Pandas Series a little different conceptually then, for instance, a relational database."
      ],
      "metadata": {
        "id": "uOZFho7F4qQI"
      }
    },
    {
      "cell_type": "code",
      "source": [
        "jjk = pd.Series({\n",
        "    'Yuji Itadori': 'Kokusen',\n",
        "    'Megumi Fushiguro': 'Divine Dogs',\n",
        "    'Kento Nanami': 'Ratio Technique'\n",
        "})\n",
        "\n",
        "satoru_ct = pd.Series(['Red', 'Blue', 'Purple'], index=['Satoru Gojo', 'Satoru Gojo', 'Satoru Gojo'])\n",
        "\n",
        "# This fuction appends all data of the last object to the end of the first\n",
        "jjk_ct = pd.concat([jjk, satoru_ct])\n",
        "\n",
        "jjk_ct"
      ],
      "metadata": {
        "id": "K95bQhn23hG6",
        "outputId": "e9c246f1-6ad7-4465-80b2-8b94a25fae8c",
        "colab": {
          "base_uri": "https://localhost:8080/"
        }
      },
      "execution_count": 51,
      "outputs": [
        {
          "output_type": "execute_result",
          "data": {
            "text/plain": [
              "Yuji Itadori                Kokusen\n",
              "Megumi Fushiguro        Divine Dogs\n",
              "Kento Nanami        Ratio Technique\n",
              "Satoru Gojo                     Red\n",
              "Satoru Gojo                    Blue\n",
              "Satoru Gojo                  Purple\n",
              "dtype: object"
            ]
          },
          "metadata": {},
          "execution_count": 51
        }
      ]
    },
    {
      "cell_type": "code",
      "source": [
        "jjk_ct.loc['Satoru Gojo']"
      ],
      "metadata": {
        "id": "uOdYSiyy5pij",
        "outputId": "fc627fb9-30e1-4fbd-863e-fb5a475d8c56",
        "colab": {
          "base_uri": "https://localhost:8080/"
        }
      },
      "execution_count": 53,
      "outputs": [
        {
          "output_type": "execute_result",
          "data": {
            "text/plain": [
              "Satoru Gojo       Red\n",
              "Satoru Gojo      Blue\n",
              "Satoru Gojo    Purple\n",
              "dtype: object"
            ]
          },
          "metadata": {},
          "execution_count": 53
        }
      ]
    }
  ]
}
