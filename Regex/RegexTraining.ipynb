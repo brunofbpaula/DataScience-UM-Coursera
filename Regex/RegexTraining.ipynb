{
  "nbformat": 4,
  "nbformat_minor": 0,
  "metadata": {
    "colab": {
      "provenance": [],
      "authorship_tag": "ABX9TyMCu3ImlII3rgjG1vdfJrVc",
      "include_colab_link": true
    },
    "kernelspec": {
      "name": "python3",
      "display_name": "Python 3"
    },
    "language_info": {
      "name": "python"
    }
  },
  "cells": [
    {
      "cell_type": "markdown",
      "metadata": {
        "id": "view-in-github",
        "colab_type": "text"
      },
      "source": [
        "<a href=\"https://colab.research.google.com/github/brunofbpaula/DataScience-UM-Coursera/blob/main/Regex/RegexTraining.ipynb\" target=\"_parent\"><img src=\"https://colab.research.google.com/assets/colab-badge.svg\" alt=\"Open In Colab\"/></a>"
      ]
    },
    {
      "cell_type": "markdown",
      "source": [
        "# Regex\n",
        "\n",
        "Regular expressions are used in strings to match patterns. They are written in a condensed formatting language.\n",
        "\n",
        "Basically, a regex is a pattern which you give to a regex processor with some source data. The processor then parses that source data using that pattern, and return chunks of text back to the data scientist or programmer for futher manipulation."
      ],
      "metadata": {
        "id": "zRjQFD__jFKu"
      }
    },
    {
      "cell_type": "code",
      "execution_count": null,
      "metadata": {
        "colab": {
          "base_uri": "https://localhost:8080/"
        },
        "id": "WqoGNvabiT6a",
        "outputId": "4ea98f86-bb5d-485d-e9fb-c17efef6646a"
      },
      "outputs": [
        {
          "output_type": "stream",
          "name": "stdout",
          "text": [
            "IT'S OUR JOB\n"
          ]
        }
      ],
      "source": [
        "import re\n",
        "\n",
        "text = 'It\\'s my job'\n",
        "\n",
        "# Search() checks for a match anywhere in the string, and returns a boolean\n",
        "if re.search(\"job\", text):\n",
        "  print('IT\\'S OUR JOB')\n",
        "else:\n",
        "  print('It\\'s time to get a job')"
      ]
    },
    {
      "cell_type": "code",
      "source": [
        "text = \"Maybe someones don't like me but because I'm maybe too good I don't know why\"\n",
        "\n",
        "# The findall() and split() functions will parse the string for us and return chunks.\n",
        "text = \"Cristiano is the greatest of all time. Cristiano is a generational talent. Cristiano's influence is unreal.\"\n",
        "print((re.findall(\"Cristiano\", text)))\n",
        "print()\n",
        "re.split(\"Cristiano\", text)"
      ],
      "metadata": {
        "id": "E56B8_5Km7Y2",
        "colab": {
          "base_uri": "https://localhost:8080/"
        },
        "outputId": "d513d139-8392-4047-c768-744bc5e024bf"
      },
      "execution_count": null,
      "outputs": [
        {
          "output_type": "stream",
          "name": "stdout",
          "text": [
            "['Cristiano', 'Cristiano', 'Cristiano']\n",
            "\n"
          ]
        },
        {
          "output_type": "execute_result",
          "data": {
            "text/plain": [
              "['',\n",
              " ' is the greatest of all time. ',\n",
              " ' is a generational talent. ',\n",
              " \"'s influence is unreal.\"]"
            ]
          },
          "metadata": {},
          "execution_count": 2
        }
      ]
    },
    {
      "cell_type": "markdown",
      "source": [
        "# Complex Patterns\n",
        "The regex specification standard defines a markup language to describe patterns in text."
      ],
      "metadata": {
        "id": "eev0mMKIrgp4"
      }
    },
    {
      "cell_type": "markdown",
      "source": [
        "## Anchors\n",
        "They specify the start and/or the end of the string that you are trying to match. The caret character ^ means start and the dollar sign $ means end."
      ],
      "metadata": {
        "id": "9d0g9JcwsYln"
      }
    },
    {
      "cell_type": "code",
      "source": [
        "text = \"Messi is finished. The GOAT is Ronaldo\"\n",
        "\n",
        "# Let's see if the statement above starts with 'Messi'\n",
        "# It has a boolean value (true if it was found), even though it's an object named re.Match, containing the pattern matched and the location it was in.\n",
        "if re.search(\"^Messi\", text):\n",
        "  print(\"Pessi plays soccer\")\n",
        "else:\n",
        "  print(\"Ronaldo plays in the camel league\")\n",
        "\n",
        "# Checking if it ends with 'Ronaldo'\n",
        "re.search(\"Ronaldo$\", text)"
      ],
      "metadata": {
        "colab": {
          "base_uri": "https://localhost:8080/"
        },
        "id": "-hCrvq8ioGH8",
        "outputId": "62e4e033-5b38-4517-ac79-d5a0827dd0c3"
      },
      "execution_count": null,
      "outputs": [
        {
          "output_type": "stream",
          "name": "stdout",
          "text": [
            "Pessi plays soccer\n"
          ]
        },
        {
          "output_type": "execute_result",
          "data": {
            "text/plain": [
              "<re.Match object; span=(31, 38), match='Ronaldo'>"
            ]
          },
          "metadata": {},
          "execution_count": 3
        }
      ]
    },
    {
      "cell_type": "markdown",
      "source": [
        "## Patterns and Character Classes"
      ],
      "metadata": {
        "id": "h1U_oZ7KuXF5"
      }
    },
    {
      "cell_type": "code",
      "source": [
        "grades = \"AABCAAAACBBDFF\"\n",
        "\n",
        "# If we want to find how many As and Bs there are in the string above, we put the characters A and B inside square brackets\n",
        "re.findall(\"[AB]\", grades)\n"
      ],
      "metadata": {
        "colab": {
          "base_uri": "https://localhost:8080/"
        },
        "id": "gjiwNST-tPON",
        "outputId": "f872c164-766e-4c76-f249-2af47488faac"
      },
      "execution_count": null,
      "outputs": [
        {
          "output_type": "execute_result",
          "data": {
            "text/plain": [
              "['A', 'A', 'B', 'A', 'A', 'A', 'A', 'B', 'B']"
            ]
          },
          "metadata": {},
          "execution_count": 29
        }
      ]
    },
    {
      "cell_type": "code",
      "source": [
        "# This is called the set operator. It's also possible to include a range of characters,\n",
        "# which are ordered alphanumerically. In instance, if we want to refer to all lower case letters\n",
        "# we could use [a-z].\n",
        "\n",
        "# This simple regex parses out all instances where a student receives an A followed by a B or C.\n",
        "re.findall(\"[A][B-C]\", grades)"
      ],
      "metadata": {
        "colab": {
          "base_uri": "https://localhost:8080/"
        },
        "id": "tmxa_693vF7U",
        "outputId": "11b7b1c9-27d5-433e-d9e2-5715fd1db962"
      },
      "execution_count": null,
      "outputs": [
        {
          "output_type": "execute_result",
          "data": {
            "text/plain": [
              "['AB', 'AC']"
            ]
          },
          "metadata": {},
          "execution_count": 30
        }
      ]
    },
    {
      "cell_type": "code",
      "source": [
        "# In addition, the pipe operator can be used to do the same thing.\n",
        "re.findall(\"AB|AC\", grades)"
      ],
      "metadata": {
        "colab": {
          "base_uri": "https://localhost:8080/"
        },
        "id": "SMkh_yFvv5FC",
        "outputId": "6b60df30-02b8-489d-fa1b-74eb9bb34c57"
      },
      "execution_count": null,
      "outputs": [
        {
          "output_type": "execute_result",
          "data": {
            "text/plain": [
              "['AB', 'AC']"
            ]
          },
          "metadata": {},
          "execution_count": 31
        }
      ]
    },
    {
      "cell_type": "code",
      "source": [
        "# The caret ^ character inside square brackets can also be used to negate results. So, if we decide to parse out only the grades that are not A's, we need to:\n",
        "re.findall(\"[^A]\", grades)"
      ],
      "metadata": {
        "id": "IZfCvPMXwcYT",
        "colab": {
          "base_uri": "https://localhost:8080/"
        },
        "outputId": "755bdc25-99c5-4011-9e46-d08cf96f2bf9"
      },
      "execution_count": null,
      "outputs": [
        {
          "output_type": "execute_result",
          "data": {
            "text/plain": [
              "['B', 'C', 'C', 'B', 'B', 'D', 'F', 'F']"
            ]
          },
          "metadata": {},
          "execution_count": 32
        }
      ]
    },
    {
      "cell_type": "code",
      "source": [
        "# This returns am empty list because it's trying to match any value at the beginning of the string (the first one) that is not A\n",
        "# But, as we can see, the string grades starts with an A, so no match is found.\n",
        "print(grades)\n",
        "re.findall(\"^[^A]\", grades)"
      ],
      "metadata": {
        "colab": {
          "base_uri": "https://localhost:8080/"
        },
        "id": "STOzMJNbdsln",
        "outputId": "591016c4-734e-421c-8231-208276df8b69"
      },
      "execution_count": null,
      "outputs": [
        {
          "output_type": "stream",
          "name": "stdout",
          "text": [
            "AABCAAAACBBDFF\n"
          ]
        },
        {
          "output_type": "execute_result",
          "data": {
            "text/plain": [
              "[]"
            ]
          },
          "metadata": {},
          "execution_count": 33
        }
      ]
    },
    {
      "cell_type": "markdown",
      "source": [
        "# Quantifiers\n",
        "These are the number of times that you want a pattern to be matched in order to match.\n",
        "\n",
        "The very basic qualifier is expressed as e {m,n}, where e is the expression or character to be matched, m is the minimum number of times it is required to be matched, and n is the maximum number of times the item could be matched."
      ],
      "metadata": {
        "id": "hGvhJvC5ewB2"
      }
    },
    {
      "cell_type": "code",
      "source": [
        "# Example: how many back-to-back A's streak are there in the grades string?\n",
        "re.findall(\"A{2,10}\", grades) # 2 to minimum occurances and 10 to max"
      ],
      "metadata": {
        "colab": {
          "base_uri": "https://localhost:8080/"
        },
        "id": "lVx5D9yHeExg",
        "outputId": "f8008acf-30a9-4c7a-8fe7-07cd5c5c5a91"
      },
      "execution_count": null,
      "outputs": [
        {
          "output_type": "execute_result",
          "data": {
            "text/plain": [
              "['AA', 'AAAA']"
            ]
          },
          "metadata": {},
          "execution_count": 34
        }
      ]
    },
    {
      "cell_type": "code",
      "source": [
        "# Now let's see a different approach. In the previous output, we can see the streak of A's in a combination of two up to ten in a row\n",
        "# So, it sees four A's as a single pattern. Below, we are only searching for streak of two A's in a row to see how many times it occurs\n",
        "re.findall(\"A{1,1}A{1,1}\", grades)"
      ],
      "metadata": {
        "colab": {
          "base_uri": "https://localhost:8080/"
        },
        "id": "TrFpjhc6gQ8Z",
        "outputId": "44c8bddc-cac9-4935-cacd-2bb8cae14b4a"
      },
      "execution_count": null,
      "outputs": [
        {
          "output_type": "execute_result",
          "data": {
            "text/plain": [
              "['AA', 'AA', 'AA']"
            ]
          },
          "metadata": {},
          "execution_count": 36
        }
      ]
    },
    {
      "cell_type": "code",
      "source": [
        "# And if you only pass a number inside the curly brackets, it is considered both m and n\n",
        "re.findall(\"B{2}\", grades)"
      ],
      "metadata": {
        "colab": {
          "base_uri": "https://localhost:8080/"
        },
        "id": "SdZ3u2EUhI2x",
        "outputId": "728b0af0-493b-49c6-ab9e-f14fea63af40"
      },
      "execution_count": null,
      "outputs": [
        {
          "output_type": "execute_result",
          "data": {
            "text/plain": [
              "['BB']"
            ]
          },
          "metadata": {},
          "execution_count": 37
        }
      ]
    },
    {
      "cell_type": "code",
      "source": [
        "# Another interesting pattern is the decreasing trend in the grades\n",
        "re.findall(\"A{1,1}B{1,1}C{1,1}\", grades)"
      ],
      "metadata": {
        "colab": {
          "base_uri": "https://localhost:8080/"
        },
        "id": "17SUd8dchoK6",
        "outputId": "409e61c7-0878-4e58-ff98-5d8dc4f7f848"
      },
      "execution_count": null,
      "outputs": [
        {
          "output_type": "execute_result",
          "data": {
            "text/plain": [
              "['ABC']"
            ]
          },
          "metadata": {},
          "execution_count": 39
        }
      ]
    },
    {
      "cell_type": "markdown",
      "source": [
        "There are three other qualifiers that are used as short hand, and asterix * to match zero or more times.\n",
        "\n",
        "A question mark ? to match one or more times.\n",
        "\n",
        "And a plus + sign to one or more times."
      ],
      "metadata": {
        "id": "HZpePtpUiKN7"
      }
    },
    {
      "cell_type": "markdown",
      "source": [
        "# Wikipedia\n",
        "Let's look at a more complex example."
      ],
      "metadata": {
        "id": "pqGvd3yLjIfr"
      }
    },
    {
      "cell_type": "code",
      "source": [
        "with open(\"dataset/ferpa.txt\", \"r\") as file:\n",
        "  wiki = file.read()\n"
      ],
      "metadata": {
        "id": "G1p7rP8Jh-gK"
      },
      "execution_count": null,
      "outputs": []
    },
    {
      "cell_type": "code",
      "source": [
        "import re\n",
        "\n",
        "text = \"https://google.com is better than http://www.baidu.com, ok?\"\n",
        "re.findall(\"(?<=[https]:\\/\\/)([A-Za-z0-9.]*)\", text)"
      ],
      "metadata": {
        "colab": {
          "base_uri": "https://localhost:8080/"
        },
        "id": "rQs6c7XAf5LT",
        "outputId": "a4c96019-6637-4df2-acbc-45dd1f61fc01"
      },
      "execution_count": null,
      "outputs": [
        {
          "output_type": "execute_result",
          "data": {
            "text/plain": [
              "['google.com', 'www.baidu.com']"
            ]
          },
          "metadata": {},
          "execution_count": 25
        }
      ]
    },
    {
      "cell_type": "code",
      "source": [
        "text =r'''This text has:\n",
        "(a) One line\n",
        "(b) Two lines\n",
        "(c) Three lines'''\n",
        "\n",
        "len(re.findall(\"\\(.\\)\", text))"
      ],
      "metadata": {
        "colab": {
          "base_uri": "https://localhost:8080/"
        },
        "id": "KgS9dhFS2reL",
        "outputId": "4ff731c4-e000-4c02-f28c-934cb6e9235d"
      },
      "execution_count": null,
      "outputs": [
        {
          "output_type": "execute_result",
          "data": {
            "text/plain": [
              "3"
            ]
          },
          "metadata": {},
          "execution_count": 28
        }
      ]
    }
  ]
}